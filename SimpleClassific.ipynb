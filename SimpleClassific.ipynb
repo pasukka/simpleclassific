{
  "cells": [
    {
      "cell_type": "code",
      "execution_count": null,
      "metadata": {
        "id": "EHojx3OJO5AP"
      },
      "outputs": [],
      "source": [
        "import numpy as np\n",
        "import pandas as pd\n",
        "import seaborn as sns\n",
        "\n",
        "import csv"
      ]
    },
    {
      "cell_type": "code",
      "execution_count": null,
      "metadata": {
        "id": "YSPSGZp2O-EJ"
      },
      "outputs": [],
      "source": [
        "file_path = 'data/ecommerceDataset.csv'\n",
        "dataset = pd.read_csv(file_path)"
      ]
    },
    {
      "cell_type": "code",
      "execution_count": null,
      "metadata": {
        "id": "Hq-dhKlv6zUM"
      },
      "outputs": [],
      "source": [
        "dataset.columns = ['Category', 'Text']\n",
        "codes = {'Household':0, 'Books':1, 'Clothing & Accessories':2, 'Electronics':3}\n",
        "dataset['Category_code'] = dataset['Category'].apply(lambda x: codes[x])"
      ]
    },
    {
      "cell_type": "code",
      "execution_count": null,
      "metadata": {
        "colab": {
          "base_uri": "https://localhost:8080/",
          "height": 112
        },
        "id": "EGIa_5wYYymO",
        "outputId": "2a138cf7-2277-46a7-e7b4-d62629ab76af"
      },
      "outputs": [
        {
          "data": {
            "application/vnd.google.colaboratory.intrinsic+json": {
              "summary": "{\n  \"name\": \"dataset[0:2]\",\n  \"rows\": 2,\n  \"fields\": [\n    {\n      \"column\": \"Category\",\n      \"properties\": {\n        \"dtype\": \"string\",\n        \"num_unique_values\": 1,\n        \"samples\": [\n          \"Household\"\n        ],\n        \"semantic_type\": \"\",\n        \"description\": \"\"\n      }\n    },\n    {\n      \"column\": \"Text\",\n      \"properties\": {\n        \"dtype\": \"string\",\n        \"num_unique_values\": 2,\n        \"samples\": [\n          \"SAF 'UV Textured Modern Art Print Framed' Painting (Synthetic, 35 cm x 50 cm x 3 cm, Set of 3) Color:Multicolor                                                                                \\u00a0|\\u00a0                           Size:35 cm x 50 cm x 3 cm   Overview a beautiful painting involves the action or skill of using paint in the right manner; hence, the end product will be a picture that can speak a thousand words they say. Arts have been in trend for quite some time now. It can give different viewer different meanings style and design the SAF wood matte abstract painting with frame is quite abstract and mysteriously beautiful. The painting has a nice frame to it. You can gift this to a family or a friend. The painting has various forms of certain figures on it as seen in the image. You can add a good set of lights to the place where the painting is and the decor will give a different feel and look to the place. Quality and durability the painting has a matte finish and includes a good quality frame and will last for a long period. However, it does not include glass along with the frame. Specifications you can purchase SAF wood matte abstract painting with frame on amazon.in. It is the most customer-friendly platform with a wide range of products to choose from, and shopping is just a click away!\"\n        ],\n        \"semantic_type\": \"\",\n        \"description\": \"\"\n      }\n    },\n    {\n      \"column\": \"Category_code\",\n      \"properties\": {\n        \"dtype\": \"number\",\n        \"std\": 0,\n        \"min\": 0,\n        \"max\": 0,\n        \"num_unique_values\": 1,\n        \"samples\": [\n          0\n        ],\n        \"semantic_type\": \"\",\n        \"description\": \"\"\n      }\n    }\n  ]\n}",
              "type": "dataframe"
            },
            "text/html": [
              "\n",
              "  <div id=\"df-700e25d5-f61d-44df-b934-b6f1596a70e7\" class=\"colab-df-container\">\n",
              "    <div>\n",
              "<style scoped>\n",
              "    .dataframe tbody tr th:only-of-type {\n",
              "        vertical-align: middle;\n",
              "    }\n",
              "\n",
              "    .dataframe tbody tr th {\n",
              "        vertical-align: top;\n",
              "    }\n",
              "\n",
              "    .dataframe thead th {\n",
              "        text-align: right;\n",
              "    }\n",
              "</style>\n",
              "<table border=\"1\" class=\"dataframe\">\n",
              "  <thead>\n",
              "    <tr style=\"text-align: right;\">\n",
              "      <th></th>\n",
              "      <th>Category</th>\n",
              "      <th>Text</th>\n",
              "      <th>Category_code</th>\n",
              "    </tr>\n",
              "  </thead>\n",
              "  <tbody>\n",
              "    <tr>\n",
              "      <th>0</th>\n",
              "      <td>Household</td>\n",
              "      <td>SAF 'Floral' Framed Painting (Wood, 30 inch x ...</td>\n",
              "      <td>0</td>\n",
              "    </tr>\n",
              "    <tr>\n",
              "      <th>1</th>\n",
              "      <td>Household</td>\n",
              "      <td>SAF 'UV Textured Modern Art Print Framed' Pain...</td>\n",
              "      <td>0</td>\n",
              "    </tr>\n",
              "  </tbody>\n",
              "</table>\n",
              "</div>\n",
              "    <div class=\"colab-df-buttons\">\n",
              "\n",
              "  <div class=\"colab-df-container\">\n",
              "    <button class=\"colab-df-convert\" onclick=\"convertToInteractive('df-700e25d5-f61d-44df-b934-b6f1596a70e7')\"\n",
              "            title=\"Convert this dataframe to an interactive table.\"\n",
              "            style=\"display:none;\">\n",
              "\n",
              "  <svg xmlns=\"http://www.w3.org/2000/svg\" height=\"24px\" viewBox=\"0 -960 960 960\">\n",
              "    <path d=\"M120-120v-720h720v720H120Zm60-500h600v-160H180v160Zm220 220h160v-160H400v160Zm0 220h160v-160H400v160ZM180-400h160v-160H180v160Zm440 0h160v-160H620v160ZM180-180h160v-160H180v160Zm440 0h160v-160H620v160Z\"/>\n",
              "  </svg>\n",
              "    </button>\n",
              "\n",
              "  <style>\n",
              "    .colab-df-container {\n",
              "      display:flex;\n",
              "      gap: 12px;\n",
              "    }\n",
              "\n",
              "    .colab-df-convert {\n",
              "      background-color: #E8F0FE;\n",
              "      border: none;\n",
              "      border-radius: 50%;\n",
              "      cursor: pointer;\n",
              "      display: none;\n",
              "      fill: #1967D2;\n",
              "      height: 32px;\n",
              "      padding: 0 0 0 0;\n",
              "      width: 32px;\n",
              "    }\n",
              "\n",
              "    .colab-df-convert:hover {\n",
              "      background-color: #E2EBFA;\n",
              "      box-shadow: 0px 1px 2px rgba(60, 64, 67, 0.3), 0px 1px 3px 1px rgba(60, 64, 67, 0.15);\n",
              "      fill: #174EA6;\n",
              "    }\n",
              "\n",
              "    .colab-df-buttons div {\n",
              "      margin-bottom: 4px;\n",
              "    }\n",
              "\n",
              "    [theme=dark] .colab-df-convert {\n",
              "      background-color: #3B4455;\n",
              "      fill: #D2E3FC;\n",
              "    }\n",
              "\n",
              "    [theme=dark] .colab-df-convert:hover {\n",
              "      background-color: #434B5C;\n",
              "      box-shadow: 0px 1px 3px 1px rgba(0, 0, 0, 0.15);\n",
              "      filter: drop-shadow(0px 1px 2px rgba(0, 0, 0, 0.3));\n",
              "      fill: #FFFFFF;\n",
              "    }\n",
              "  </style>\n",
              "\n",
              "    <script>\n",
              "      const buttonEl =\n",
              "        document.querySelector('#df-700e25d5-f61d-44df-b934-b6f1596a70e7 button.colab-df-convert');\n",
              "      buttonEl.style.display =\n",
              "        google.colab.kernel.accessAllowed ? 'block' : 'none';\n",
              "\n",
              "      async function convertToInteractive(key) {\n",
              "        const element = document.querySelector('#df-700e25d5-f61d-44df-b934-b6f1596a70e7');\n",
              "        const dataTable =\n",
              "          await google.colab.kernel.invokeFunction('convertToInteractive',\n",
              "                                                    [key], {});\n",
              "        if (!dataTable) return;\n",
              "\n",
              "        const docLinkHtml = 'Like what you see? Visit the ' +\n",
              "          '<a target=\"_blank\" href=https://colab.research.google.com/notebooks/data_table.ipynb>data table notebook</a>'\n",
              "          + ' to learn more about interactive tables.';\n",
              "        element.innerHTML = '';\n",
              "        dataTable['output_type'] = 'display_data';\n",
              "        await google.colab.output.renderOutput(dataTable, element);\n",
              "        const docLink = document.createElement('div');\n",
              "        docLink.innerHTML = docLinkHtml;\n",
              "        element.appendChild(docLink);\n",
              "      }\n",
              "    </script>\n",
              "  </div>\n",
              "\n",
              "\n",
              "<div id=\"df-7d0fcbb1-5f81-44c2-a661-1a881a4daead\">\n",
              "  <button class=\"colab-df-quickchart\" onclick=\"quickchart('df-7d0fcbb1-5f81-44c2-a661-1a881a4daead')\"\n",
              "            title=\"Suggest charts\"\n",
              "            style=\"display:none;\">\n",
              "\n",
              "<svg xmlns=\"http://www.w3.org/2000/svg\" height=\"24px\"viewBox=\"0 0 24 24\"\n",
              "     width=\"24px\">\n",
              "    <g>\n",
              "        <path d=\"M19 3H5c-1.1 0-2 .9-2 2v14c0 1.1.9 2 2 2h14c1.1 0 2-.9 2-2V5c0-1.1-.9-2-2-2zM9 17H7v-7h2v7zm4 0h-2V7h2v10zm4 0h-2v-4h2v4z\"/>\n",
              "    </g>\n",
              "</svg>\n",
              "  </button>\n",
              "\n",
              "<style>\n",
              "  .colab-df-quickchart {\n",
              "      --bg-color: #E8F0FE;\n",
              "      --fill-color: #1967D2;\n",
              "      --hover-bg-color: #E2EBFA;\n",
              "      --hover-fill-color: #174EA6;\n",
              "      --disabled-fill-color: #AAA;\n",
              "      --disabled-bg-color: #DDD;\n",
              "  }\n",
              "\n",
              "  [theme=dark] .colab-df-quickchart {\n",
              "      --bg-color: #3B4455;\n",
              "      --fill-color: #D2E3FC;\n",
              "      --hover-bg-color: #434B5C;\n",
              "      --hover-fill-color: #FFFFFF;\n",
              "      --disabled-bg-color: #3B4455;\n",
              "      --disabled-fill-color: #666;\n",
              "  }\n",
              "\n",
              "  .colab-df-quickchart {\n",
              "    background-color: var(--bg-color);\n",
              "    border: none;\n",
              "    border-radius: 50%;\n",
              "    cursor: pointer;\n",
              "    display: none;\n",
              "    fill: var(--fill-color);\n",
              "    height: 32px;\n",
              "    padding: 0;\n",
              "    width: 32px;\n",
              "  }\n",
              "\n",
              "  .colab-df-quickchart:hover {\n",
              "    background-color: var(--hover-bg-color);\n",
              "    box-shadow: 0 1px 2px rgba(60, 64, 67, 0.3), 0 1px 3px 1px rgba(60, 64, 67, 0.15);\n",
              "    fill: var(--button-hover-fill-color);\n",
              "  }\n",
              "\n",
              "  .colab-df-quickchart-complete:disabled,\n",
              "  .colab-df-quickchart-complete:disabled:hover {\n",
              "    background-color: var(--disabled-bg-color);\n",
              "    fill: var(--disabled-fill-color);\n",
              "    box-shadow: none;\n",
              "  }\n",
              "\n",
              "  .colab-df-spinner {\n",
              "    border: 2px solid var(--fill-color);\n",
              "    border-color: transparent;\n",
              "    border-bottom-color: var(--fill-color);\n",
              "    animation:\n",
              "      spin 1s steps(1) infinite;\n",
              "  }\n",
              "\n",
              "  @keyframes spin {\n",
              "    0% {\n",
              "      border-color: transparent;\n",
              "      border-bottom-color: var(--fill-color);\n",
              "      border-left-color: var(--fill-color);\n",
              "    }\n",
              "    20% {\n",
              "      border-color: transparent;\n",
              "      border-left-color: var(--fill-color);\n",
              "      border-top-color: var(--fill-color);\n",
              "    }\n",
              "    30% {\n",
              "      border-color: transparent;\n",
              "      border-left-color: var(--fill-color);\n",
              "      border-top-color: var(--fill-color);\n",
              "      border-right-color: var(--fill-color);\n",
              "    }\n",
              "    40% {\n",
              "      border-color: transparent;\n",
              "      border-right-color: var(--fill-color);\n",
              "      border-top-color: var(--fill-color);\n",
              "    }\n",
              "    60% {\n",
              "      border-color: transparent;\n",
              "      border-right-color: var(--fill-color);\n",
              "    }\n",
              "    80% {\n",
              "      border-color: transparent;\n",
              "      border-right-color: var(--fill-color);\n",
              "      border-bottom-color: var(--fill-color);\n",
              "    }\n",
              "    90% {\n",
              "      border-color: transparent;\n",
              "      border-bottom-color: var(--fill-color);\n",
              "    }\n",
              "  }\n",
              "</style>\n",
              "\n",
              "  <script>\n",
              "    async function quickchart(key) {\n",
              "      const quickchartButtonEl =\n",
              "        document.querySelector('#' + key + ' button');\n",
              "      quickchartButtonEl.disabled = true;  // To prevent multiple clicks.\n",
              "      quickchartButtonEl.classList.add('colab-df-spinner');\n",
              "      try {\n",
              "        const charts = await google.colab.kernel.invokeFunction(\n",
              "            'suggestCharts', [key], {});\n",
              "      } catch (error) {\n",
              "        console.error('Error during call to suggestCharts:', error);\n",
              "      }\n",
              "      quickchartButtonEl.classList.remove('colab-df-spinner');\n",
              "      quickchartButtonEl.classList.add('colab-df-quickchart-complete');\n",
              "    }\n",
              "    (() => {\n",
              "      let quickchartButtonEl =\n",
              "        document.querySelector('#df-7d0fcbb1-5f81-44c2-a661-1a881a4daead button');\n",
              "      quickchartButtonEl.style.display =\n",
              "        google.colab.kernel.accessAllowed ? 'block' : 'none';\n",
              "    })();\n",
              "  </script>\n",
              "</div>\n",
              "    </div>\n",
              "  </div>\n"
            ],
            "text/plain": [
              "    Category                                               Text  Category_code\n",
              "0  Household  SAF 'Floral' Framed Painting (Wood, 30 inch x ...              0\n",
              "1  Household  SAF 'UV Textured Modern Art Print Framed' Pain...              0"
            ]
          },
          "execution_count": 5,
          "metadata": {},
          "output_type": "execute_result"
        }
      ],
      "source": [
        "dataset[0:2]"
      ]
    },
    {
      "cell_type": "markdown",
      "metadata": {
        "id": "8kRJHVulZrng"
      },
      "source": [
        "## Data Analizing"
      ]
    },
    {
      "cell_type": "code",
      "execution_count": null,
      "metadata": {
        "id": "wOcXZMSaZ0lM"
      },
      "outputs": [],
      "source": [
        "import matplotlib.pyplot as plt\n",
        "from collections import Counter"
      ]
    },
    {
      "cell_type": "code",
      "execution_count": null,
      "metadata": {
        "id": "3E8dM-QSBiEt"
      },
      "outputs": [],
      "source": [
        "dataset = dataset.dropna()"
      ]
    },
    {
      "cell_type": "code",
      "execution_count": null,
      "metadata": {
        "id": "nh3nNAJwZ9yp"
      },
      "outputs": [],
      "source": [
        "def stat(data, log=False):\n",
        "\n",
        "  x=data.groupby('Category', as_index=False).count()\n",
        "  sns.countplot(x=data['Category'])\n",
        "  plt.show()\n",
        "\n",
        "  data['len'] = data['Text'].apply(lambda x: len(x.split(' ')))\n",
        "  max_words = data['len'].max()\n",
        "\n",
        "  sns.kdeplot(x='len',\n",
        "              hue='Category',\n",
        "              fill=True,\n",
        "              data=data)"
      ]
    },
    {
      "cell_type": "code",
      "execution_count": null,
      "metadata": {
        "colab": {
          "base_uri": "https://localhost:8080/",
          "height": 882
        },
        "id": "v4ZgLsEYe9qx",
        "outputId": "63f66477-c4f4-4650-855d-ed640d2eec0c"
      },
      "outputs": [
        {
          "data": {
            "image/png": "[encoded data removed]",
            "text/plain": [
              "<Figure size 640x480 with 1 Axes>"
            ]
          },
          "metadata": {},
          "output_type": "display_data"
        },
        {
          "data": {
            "image/png": "[encoded data removed]",
            "text/plain": [
              "<Figure size 640x480 with 1 Axes>"
            ]
          },
          "metadata": {},
          "output_type": "display_data"
        }
      ],
      "source": [
        "stat(dataset)"
      ]
    },
    {
      "cell_type": "markdown",
      "metadata": {
        "id": "dsRWWgkqcYGB"
      },
      "source": [
        "## Data normalize"
      ]
    },
    {
      "cell_type": "code",
      "execution_count": null,
      "metadata": {
        "id": "aB9CcVsPcXuR"
      },
      "outputs": [],
      "source": [
        "from tqdm import tqdm"
      ]
    },
    {
      "cell_type": "code",
      "execution_count": null,
      "metadata": {
        "id": "YoTKuX6dcigi"
      },
      "outputs": [],
      "source": [
        "def filter_sentence_length(data, shortest, longest):\n",
        "  dataset_sorted = dataset.sort_values(by=['len'])\n",
        "  length = len(data)\n",
        "\n",
        "  filtered_dataset = dataset_sorted[int(length * shortest) : length - int(length * longest)]\n",
        "\n",
        "  return filtered_dataset"
      ]
    },
    {
      "cell_type": "code",
      "execution_count": null,
      "metadata": {
        "colab": {
          "base_uri": "https://localhost:8080/",
          "height": 881
        },
        "id": "86hDmAmnd4-d",
        "outputId": "1c861b05-f9b4-4fc9-c3b6-3ae81ff91c99"
      },
      "outputs": [
        {
          "data": {
            "image/png": "[encoded data removed]",
            "text/plain": [
              "<Figure size 640x480 with 1 Axes>"
            ]
          },
          "metadata": {},
          "output_type": "display_data"
        },
        {
          "data": {
            "image/png": "[encoded data removed]",
            "text/plain": [
              "<Figure size 640x480 with 1 Axes>"
            ]
          },
          "metadata": {},
          "output_type": "display_data"
        }
      ],
      "source": [
        "norm_data = filter_sentence_length(dataset, 0.1, 0.2)\n",
        "stat(norm_data, True)"
      ]
    },
    {
      "cell_type": "code",
      "execution_count": null,
      "metadata": {
        "id": "GBcOQmKZUrtw"
      },
      "outputs": [],
      "source": [
        "def make_equal_balance(data):\n",
        "  c = Counter(norm_data['Category_code'])\n",
        "  min = c.most_common()[-1][0]\n",
        "  data_min = data[data['Category_code'] == min]\n",
        "  df = data_min\n",
        "\n",
        "  for part in c:\n",
        "    part_df = data[data['Category_code'] == part]\n",
        "    if part != min:\n",
        "      part_df = part_df.sample(n=c[min], random_state=101)\n",
        "      df = pd.concat([df,part_df],axis=0)\n",
        "  df = df.sample(frac=1).reset_index(drop=True)\n",
        "\n",
        "  return df"
      ]
    },
    {
      "cell_type": "code",
      "execution_count": null,
      "metadata": {
        "id": "kJ2_HvECh1FQ"
      },
      "outputs": [],
      "source": [
        "data = norm_data\n",
        "data = make_equal_balance(data)"
      ]
    },
    {
      "cell_type": "code",
      "execution_count": null,
      "metadata": {
        "colab": {
          "base_uri": "https://localhost:8080/",
          "height": 881
        },
        "id": "wFpyptThqemD",
        "outputId": "22ac2259-d2f0-4da5-9548-5302116cfbb0"
      },
      "outputs": [
        {
          "data": {
            "image/png": "[encoded data removed]",
            "text/plain": [
              "<Figure size 640x480 with 1 Axes>"
            ]
          },
          "metadata": {},
          "output_type": "display_data"
        },
        {
          "data": {
            "image/png": "[encoded data removed]",
            "text/plain": [
              "<Figure size 640x480 with 1 Axes>"
            ]
          },
          "metadata": {},
          "output_type": "display_data"
        }
      ],
      "source": [
        "stat(data)"
      ]
    },
    {
      "cell_type": "code",
      "execution_count": null,
      "metadata": {
        "colab": {
          "base_uri": "https://localhost:8080/"
        },
        "id": "Ivxu0WwNGFhe",
        "outputId": "2c03b659-a40e-44a6-af96-67bdd5293a67"
      },
      "outputs": [
        {
          "name": "stderr",
          "output_type": "stream",
          "text": [
            "[nltk_data] Downloading package wordnet to /root/nltk_data...\n",
            "[nltk_data] Downloading package stopwords to /root/nltk_data...\n",
            "[nltk_data]   Unzipping corpora/stopwords.zip.\n"
          ]
        }
      ],
      "source": [
        "import nltk\n",
        "nltk.download('wordnet')\n",
        "from nltk.corpus import stopwords\n",
        "nltk.download('stopwords')\n",
        "from nltk.stem import WordNetLemmatizer"
      ]
    },
    {
      "cell_type": "code",
      "execution_count": null,
      "metadata": {
        "id": "ut4ZeCFCIYSF"
      },
      "outputs": [],
      "source": [
        "import re\n",
        "import string"
      ]
    },
    {
      "cell_type": "code",
      "execution_count": null,
      "metadata": {
        "id": "i1nfWgGwGBkR"
      },
      "outputs": [],
      "source": [
        "def str_preprocess(text: str)->list:\n",
        "    \"\"\"\n",
        "    Function to clean text and create lemmas\n",
        "    \"\"\"\n",
        "    reg = re.compile('[^а-яА-яa-zA-Z0-9 ]') #\n",
        "    text = text.lower().replace(\"ё\", \"е\")\n",
        "    text = text.replace(\"ъ\", \"ь\")\n",
        "    text = text.replace(\"й\", \"и\")\n",
        "    text = text.replace(\"\\\\n\", \"\")\n",
        "    text = text.replace(\"\\\\r\", \"\")\n",
        "    text = text.replace(\"\\\\t\", \"\")\n",
        "    text = re.sub('((www\\.[^\\s]+)|(https?://[^\\s]+))', 'сайт', text)\n",
        "    text = re.sub('@[^\\s]+', 'пользователь', text)\n",
        "    text = reg.sub(' ', text)\n",
        "\n",
        "    # Лемматизация\n",
        "    lemmatizer = WordNetLemmatizer()\n",
        "    SYMBOLS = \" \".join(string.punctuation).split(\" \") + [\"-\", \"...\", \"”\", \"”\"]\n",
        "    stopWords = set(stopwords.words('english'))\n",
        "\n",
        "    text =  \" \".join([word for word in text.split() if word not in SYMBOLS])\n",
        "    text =[lemmatizer.lemmatize(word) for word in text.split() if word not in stopWords]\n",
        "    return ' '.join(text)"
      ]
    },
    {
      "cell_type": "code",
      "execution_count": null,
      "metadata": {
        "id": "6bFW2wrpGQQ-"
      },
      "outputs": [],
      "source": [
        "tqdm.pandas()"
      ]
    },
    {
      "cell_type": "code",
      "execution_count": null,
      "metadata": {
        "colab": {
          "base_uri": "https://localhost:8080/",
          "height": 424
        },
        "id": "0MuX7B5LHfC-",
        "outputId": "3c96ee64-1d2e-468b-e42a-568ea3725935"
      },
      "outputs": [
        {
          "data": {
            "application/vnd.google.colaboratory.intrinsic+json": {
              "summary": "{\n  \"name\": \"data\",\n  \"rows\": 25636,\n  \"fields\": [\n    {\n      \"column\": \"Category\",\n      \"properties\": {\n        \"dtype\": \"category\",\n        \"num_unique_values\": 4,\n        \"samples\": [\n          \"Clothing & Accessories\",\n          \"Electronics\",\n          \"Books\"\n        ],\n        \"semantic_type\": \"\",\n        \"description\": \"\"\n      }\n    },\n    {\n      \"column\": \"Text\",\n      \"properties\": {\n        \"dtype\": \"string\",\n        \"num_unique_values\": 16023,\n        \"samples\": [\n          \"BODYCARE Printed Panty for Girls Pack of 6 from Bodycare brings collection of Panty for Girls pack of 6 with highly streachable easy to comfort & stylish designs with 100 % cotton fabric\",\n          \"Pindia Plastic Luminous Fluorescent Glowing Night Sky Wall Sticker Radium Glow Stars Starry Sky (2 cm x 2 cm x 1 cm, Green, Set of 55) Have you ever dreamt of converting your room into a starry night as a child. Then here is your chance to make your dreams come true. Buy these glow in the dark vinyl stickers of stars and stick it on walls and ceilings of your room and you will get a starry night effect once the lights are turned off. This will take you to a galaxy ride for sure. Note: The exact color shade of the product may differ from batch to batch.\",\n          \"Sojanya (Since 1958), Men's Black Cotton Kurta Churidar Pyjama sets SOJANYA as a brand brings you quality and affordability. In market since 1958, we take pride in our commitment to maintain quality standards in each piece manufactured by us. Look your ethnic best wearing this Black and Off White Cotton Blend kurta and Pyjama Set . Made of Cotton Blend fabric, this regular-fit kurta Pyjama Set comprises a full-sleeved Cotton Blend kurta and churidaar Pyjama Set. Team this outifit with embroidered mojris and look apart on special occasions.\"\n        ],\n        \"semantic_type\": \"\",\n        \"description\": \"\"\n      }\n    },\n    {\n      \"column\": \"Category_code\",\n      \"properties\": {\n        \"dtype\": \"number\",\n        \"std\": 1,\n        \"min\": 0,\n        \"max\": 3,\n        \"num_unique_values\": 4,\n        \"samples\": [\n          2,\n          3,\n          1\n        ],\n        \"semantic_type\": \"\",\n        \"description\": \"\"\n      }\n    },\n    {\n      \"column\": \"len\",\n      \"properties\": {\n        \"dtype\": \"number\",\n        \"std\": 46,\n        \"min\": 12,\n        \"max\": 182,\n        \"num_unique_values\": 171,\n        \"samples\": [\n          86,\n          65,\n          132\n        ],\n        \"semantic_type\": \"\",\n        \"description\": \"\"\n      }\n    }\n  ]\n}",
              "type": "dataframe",
              "variable_name": "data"
            },
            "text/html": [
              "\n",
              "  <div id=\"df-99caac54-a8e2-46ff-a33a-642301191800\" class=\"colab-df-container\">\n",
              "    <div>\n",
              "<style scoped>\n",
              "    .dataframe tbody tr th:only-of-type {\n",
              "        vertical-align: middle;\n",
              "    }\n",
              "\n",
              "    .dataframe tbody tr th {\n",
              "        vertical-align: top;\n",
              "    }\n",
              "\n",
              "    .dataframe thead th {\n",
              "        text-align: right;\n",
              "    }\n",
              "</style>\n",
              "<table border=\"1\" class=\"dataframe\">\n",
              "  <thead>\n",
              "    <tr style=\"text-align: right;\">\n",
              "      <th></th>\n",
              "      <th>Category</th>\n",
              "      <th>Text</th>\n",
              "      <th>Category_code</th>\n",
              "      <th>len</th>\n",
              "    </tr>\n",
              "  </thead>\n",
              "  <tbody>\n",
              "    <tr>\n",
              "      <th>0</th>\n",
              "      <td>Books</td>\n",
              "      <td>25 Years AIIMS Chapterwise Solutions -Biology ...</td>\n",
              "      <td>1</td>\n",
              "      <td>94</td>\n",
              "    </tr>\n",
              "    <tr>\n",
              "      <th>1</th>\n",
              "      <td>Books</td>\n",
              "      <td>Fundamentals of Digital Marketing by Pearson A...</td>\n",
              "      <td>1</td>\n",
              "      <td>97</td>\n",
              "    </tr>\n",
              "    <tr>\n",
              "      <th>2</th>\n",
              "      <td>Clothing &amp; Accessories</td>\n",
              "      <td>Milano Women's Cotton Floral Embroidery Hankie...</td>\n",
              "      <td>2</td>\n",
              "      <td>28</td>\n",
              "    </tr>\n",
              "    <tr>\n",
              "      <th>3</th>\n",
              "      <td>Household</td>\n",
              "      <td>Resqtech 25 Liter 12V Dc Bucket Car Washer - Y...</td>\n",
              "      <td>0</td>\n",
              "      <td>102</td>\n",
              "    </tr>\n",
              "    <tr>\n",
              "      <th>4</th>\n",
              "      <td>Electronics</td>\n",
              "      <td>HP 12A Black Original LaserJet Toner Cartridge...</td>\n",
              "      <td>3</td>\n",
              "      <td>104</td>\n",
              "    </tr>\n",
              "    <tr>\n",
              "      <th>...</th>\n",
              "      <td>...</td>\n",
              "      <td>...</td>\n",
              "      <td>...</td>\n",
              "      <td>...</td>\n",
              "    </tr>\n",
              "    <tr>\n",
              "      <th>25631</th>\n",
              "      <td>Household</td>\n",
              "      <td>DI GRAZIA Ceramic Rabbit Cartoon Bunny Theme K...</td>\n",
              "      <td>0</td>\n",
              "      <td>155</td>\n",
              "    </tr>\n",
              "    <tr>\n",
              "      <th>25632</th>\n",
              "      <td>Clothing &amp; Accessories</td>\n",
              "      <td>To The Nines Men's Tie, Pocket Square &amp; Cuff l...</td>\n",
              "      <td>2</td>\n",
              "      <td>18</td>\n",
              "    </tr>\n",
              "    <tr>\n",
              "      <th>25633</th>\n",
              "      <td>Clothing &amp; Accessories</td>\n",
              "      <td>Sona Women's Sports Bra Non Padded for Gym &amp; Y...</td>\n",
              "      <td>2</td>\n",
              "      <td>168</td>\n",
              "    </tr>\n",
              "    <tr>\n",
              "      <th>25634</th>\n",
              "      <td>Household</td>\n",
              "      <td>Pistily Storage Box- Jewellery &amp; Trinket Stora...</td>\n",
              "      <td>0</td>\n",
              "      <td>168</td>\n",
              "    </tr>\n",
              "    <tr>\n",
              "      <th>25635</th>\n",
              "      <td>Household</td>\n",
              "      <td>Havells Instanio 3-Litre Instant Water Heater ...</td>\n",
              "      <td>0</td>\n",
              "      <td>29</td>\n",
              "    </tr>\n",
              "  </tbody>\n",
              "</table>\n",
              "<p>25636 rows × 4 columns</p>\n",
              "</div>\n",
              "    <div class=\"colab-df-buttons\">\n",
              "\n",
              "  <div class=\"colab-df-container\">\n",
              "    <button class=\"colab-df-convert\" onclick=\"convertToInteractive('df-99caac54-a8e2-46ff-a33a-642301191800')\"\n",
              "            title=\"Convert this dataframe to an interactive table.\"\n",
              "            style=\"display:none;\">\n",
              "\n",
              "  <svg xmlns=\"http://www.w3.org/2000/svg\" height=\"24px\" viewBox=\"0 -960 960 960\">\n",
              "    <path d=\"M120-120v-720h720v720H120Zm60-500h600v-160H180v160Zm220 220h160v-160H400v160Zm0 220h160v-160H400v160ZM180-400h160v-160H180v160Zm440 0h160v-160H620v160ZM180-180h160v-160H180v160Zm440 0h160v-160H620v160Z\"/>\n",
              "  </svg>\n",
              "    </button>\n",
              "\n",
              "  <style>\n",
              "    .colab-df-container {\n",
              "      display:flex;\n",
              "      gap: 12px;\n",
              "    }\n",
              "\n",
              "    .colab-df-convert {\n",
              "      background-color: #E8F0FE;\n",
              "      border: none;\n",
              "      border-radius: 50%;\n",
              "      cursor: pointer;\n",
              "      display: none;\n",
              "      fill: #1967D2;\n",
              "      height: 32px;\n",
              "      padding: 0 0 0 0;\n",
              "      width: 32px;\n",
              "    }\n",
              "\n",
              "    .colab-df-convert:hover {\n",
              "      background-color: #E2EBFA;\n",
              "      box-shadow: 0px 1px 2px rgba(60, 64, 67, 0.3), 0px 1px 3px 1px rgba(60, 64, 67, 0.15);\n",
              "      fill: #174EA6;\n",
              "    }\n",
              "\n",
              "    .colab-df-buttons div {\n",
              "      margin-bottom: 4px;\n",
              "    }\n",
              "\n",
              "    [theme=dark] .colab-df-convert {\n",
              "      background-color: #3B4455;\n",
              "      fill: #D2E3FC;\n",
              "    }\n",
              "\n",
              "    [theme=dark] .colab-df-convert:hover {\n",
              "      background-color: #434B5C;\n",
              "      box-shadow: 0px 1px 3px 1px rgba(0, 0, 0, 0.15);\n",
              "      filter: drop-shadow(0px 1px 2px rgba(0, 0, 0, 0.3));\n",
              "      fill: #FFFFFF;\n",
              "    }\n",
              "  </style>\n",
              "\n",
              "    <script>\n",
              "      const buttonEl =\n",
              "        document.querySelector('#df-99caac54-a8e2-46ff-a33a-642301191800 button.colab-df-convert');\n",
              "      buttonEl.style.display =\n",
              "        google.colab.kernel.accessAllowed ? 'block' : 'none';\n",
              "\n",
              "      async function convertToInteractive(key) {\n",
              "        const element = document.querySelector('#df-99caac54-a8e2-46ff-a33a-642301191800');\n",
              "        const dataTable =\n",
              "          await google.colab.kernel.invokeFunction('convertToInteractive',\n",
              "                                                    [key], {});\n",
              "        if (!dataTable) return;\n",
              "\n",
              "        const docLinkHtml = 'Like what you see? Visit the ' +\n",
              "          '<a target=\"_blank\" href=https://colab.research.google.com/notebooks/data_table.ipynb>data table notebook</a>'\n",
              "          + ' to learn more about interactive tables.';\n",
              "        element.innerHTML = '';\n",
              "        dataTable['output_type'] = 'display_data';\n",
              "        await google.colab.output.renderOutput(dataTable, element);\n",
              "        const docLink = document.createElement('div');\n",
              "        docLink.innerHTML = docLinkHtml;\n",
              "        element.appendChild(docLink);\n",
              "      }\n",
              "    </script>\n",
              "  </div>\n",
              "\n",
              "\n",
              "<div id=\"df-cb559f9d-4148-47e4-a9c1-757a653a8590\">\n",
              "  <button class=\"colab-df-quickchart\" onclick=\"quickchart('df-cb559f9d-4148-47e4-a9c1-757a653a8590')\"\n",
              "            title=\"Suggest charts\"\n",
              "            style=\"display:none;\">\n",
              "\n",
              "<svg xmlns=\"http://www.w3.org/2000/svg\" height=\"24px\"viewBox=\"0 0 24 24\"\n",
              "     width=\"24px\">\n",
              "    <g>\n",
              "        <path d=\"M19 3H5c-1.1 0-2 .9-2 2v14c0 1.1.9 2 2 2h14c1.1 0 2-.9 2-2V5c0-1.1-.9-2-2-2zM9 17H7v-7h2v7zm4 0h-2V7h2v10zm4 0h-2v-4h2v4z\"/>\n",
              "    </g>\n",
              "</svg>\n",
              "  </button>\n",
              "\n",
              "<style>\n",
              "  .colab-df-quickchart {\n",
              "      --bg-color: #E8F0FE;\n",
              "      --fill-color: #1967D2;\n",
              "      --hover-bg-color: #E2EBFA;\n",
              "      --hover-fill-color: #174EA6;\n",
              "      --disabled-fill-color: #AAA;\n",
              "      --disabled-bg-color: #DDD;\n",
              "  }\n",
              "\n",
              "  [theme=dark] .colab-df-quickchart {\n",
              "      --bg-color: #3B4455;\n",
              "      --fill-color: #D2E3FC;\n",
              "      --hover-bg-color: #434B5C;\n",
              "      --hover-fill-color: #FFFFFF;\n",
              "      --disabled-bg-color: #3B4455;\n",
              "      --disabled-fill-color: #666;\n",
              "  }\n",
              "\n",
              "  .colab-df-quickchart {\n",
              "    background-color: var(--bg-color);\n",
              "    border: none;\n",
              "    border-radius: 50%;\n",
              "    cursor: pointer;\n",
              "    display: none;\n",
              "    fill: var(--fill-color);\n",
              "    height: 32px;\n",
              "    padding: 0;\n",
              "    width: 32px;\n",
              "  }\n",
              "\n",
              "  .colab-df-quickchart:hover {\n",
              "    background-color: var(--hover-bg-color);\n",
              "    box-shadow: 0 1px 2px rgba(60, 64, 67, 0.3), 0 1px 3px 1px rgba(60, 64, 67, 0.15);\n",
              "    fill: var(--button-hover-fill-color);\n",
              "  }\n",
              "\n",
              "  .colab-df-quickchart-complete:disabled,\n",
              "  .colab-df-quickchart-complete:disabled:hover {\n",
              "    background-color: var(--disabled-bg-color);\n",
              "    fill: var(--disabled-fill-color);\n",
              "    box-shadow: none;\n",
              "  }\n",
              "\n",
              "  .colab-df-spinner {\n",
              "    border: 2px solid var(--fill-color);\n",
              "    border-color: transparent;\n",
              "    border-bottom-color: var(--fill-color);\n",
              "    animation:\n",
              "      spin 1s steps(1) infinite;\n",
              "  }\n",
              "\n",
              "  @keyframes spin {\n",
              "    0% {\n",
              "      border-color: transparent;\n",
              "      border-bottom-color: var(--fill-color);\n",
              "      border-left-color: var(--fill-color);\n",
              "    }\n",
              "    20% {\n",
              "      border-color: transparent;\n",
              "      border-left-color: var(--fill-color);\n",
              "      border-top-color: var(--fill-color);\n",
              "    }\n",
              "    30% {\n",
              "      border-color: transparent;\n",
              "      border-left-color: var(--fill-color);\n",
              "      border-top-color: var(--fill-color);\n",
              "      border-right-color: var(--fill-color);\n",
              "    }\n",
              "    40% {\n",
              "      border-color: transparent;\n",
              "      border-right-color: var(--fill-color);\n",
              "      border-top-color: var(--fill-color);\n",
              "    }\n",
              "    60% {\n",
              "      border-color: transparent;\n",
              "      border-right-color: var(--fill-color);\n",
              "    }\n",
              "    80% {\n",
              "      border-color: transparent;\n",
              "      border-right-color: var(--fill-color);\n",
              "      border-bottom-color: var(--fill-color);\n",
              "    }\n",
              "    90% {\n",
              "      border-color: transparent;\n",
              "      border-bottom-color: var(--fill-color);\n",
              "    }\n",
              "  }\n",
              "</style>\n",
              "\n",
              "  <script>\n",
              "    async function quickchart(key) {\n",
              "      const quickchartButtonEl =\n",
              "        document.querySelector('#' + key + ' button');\n",
              "      quickchartButtonEl.disabled = true;  // To prevent multiple clicks.\n",
              "      quickchartButtonEl.classList.add('colab-df-spinner');\n",
              "      try {\n",
              "        const charts = await google.colab.kernel.invokeFunction(\n",
              "            'suggestCharts', [key], {});\n",
              "      } catch (error) {\n",
              "        console.error('Error during call to suggestCharts:', error);\n",
              "      }\n",
              "      quickchartButtonEl.classList.remove('colab-df-spinner');\n",
              "      quickchartButtonEl.classList.add('colab-df-quickchart-complete');\n",
              "    }\n",
              "    (() => {\n",
              "      let quickchartButtonEl =\n",
              "        document.querySelector('#df-cb559f9d-4148-47e4-a9c1-757a653a8590 button');\n",
              "      quickchartButtonEl.style.display =\n",
              "        google.colab.kernel.accessAllowed ? 'block' : 'none';\n",
              "    })();\n",
              "  </script>\n",
              "</div>\n",
              "    </div>\n",
              "  </div>\n"
            ],
            "text/plain": [
              "                     Category  \\\n",
              "0                       Books   \n",
              "1                       Books   \n",
              "2      Clothing & Accessories   \n",
              "3                   Household   \n",
              "4                 Electronics   \n",
              "...                       ...   \n",
              "25631               Household   \n",
              "25632  Clothing & Accessories   \n",
              "25633  Clothing & Accessories   \n",
              "25634               Household   \n",
              "25635               Household   \n",
              "\n",
              "                                                    Text  Category_code  len  \n",
              "0      25 Years AIIMS Chapterwise Solutions -Biology ...              1   94  \n",
              "1      Fundamentals of Digital Marketing by Pearson A...              1   97  \n",
              "2      Milano Women's Cotton Floral Embroidery Hankie...              2   28  \n",
              "3      Resqtech 25 Liter 12V Dc Bucket Car Washer - Y...              0  102  \n",
              "4      HP 12A Black Original LaserJet Toner Cartridge...              3  104  \n",
              "...                                                  ...            ...  ...  \n",
              "25631  DI GRAZIA Ceramic Rabbit Cartoon Bunny Theme K...              0  155  \n",
              "25632  To The Nines Men's Tie, Pocket Square & Cuff l...              2   18  \n",
              "25633  Sona Women's Sports Bra Non Padded for Gym & Y...              2  168  \n",
              "25634  Pistily Storage Box- Jewellery & Trinket Stora...              0  168  \n",
              "25635  Havells Instanio 3-Litre Instant Water Heater ...              0   29  \n",
              "\n",
              "[25636 rows x 4 columns]"
            ]
          },
          "execution_count": 27,
          "metadata": {},
          "output_type": "execute_result"
        }
      ],
      "source": [
        "data"
      ]
    },
    {
      "cell_type": "code",
      "execution_count": null,
      "metadata": {
        "colab": {
          "base_uri": "https://localhost:8080/"
        },
        "id": "NMGnspsAGTkR",
        "outputId": "72d0632f-33d5-408a-9040-5552da6fad6c"
      },
      "outputs": [
        {
          "name": "stderr",
          "output_type": "stream",
          "text": [
            "100%|██████████| 25636/25636 [00:17<00:00, 1426.54it/s]\n"
          ]
        }
      ],
      "source": [
        "data['clean_text'] = data.progress_apply(lambda x : str_preprocess(x['Text']), axis=1)"
      ]
    },
    {
      "cell_type": "code",
      "execution_count": null,
      "metadata": {
        "colab": {
          "base_uri": "https://localhost:8080/",
          "height": 206
        },
        "id": "iSu_JNaqGUt0",
        "outputId": "df341e44-476c-4235-e786-58f3dedd7a9d"
      },
      "outputs": [
        {
          "data": {
            "application/vnd.google.colaboratory.intrinsic+json": {
              "summary": "{\n  \"name\": \"data\",\n  \"rows\": 25636,\n  \"fields\": [\n    {\n      \"column\": \"Category\",\n      \"properties\": {\n        \"dtype\": \"category\",\n        \"num_unique_values\": 4,\n        \"samples\": [\n          \"Clothing & Accessories\",\n          \"Electronics\",\n          \"Books\"\n        ],\n        \"semantic_type\": \"\",\n        \"description\": \"\"\n      }\n    },\n    {\n      \"column\": \"Text\",\n      \"properties\": {\n        \"dtype\": \"string\",\n        \"num_unique_values\": 16023,\n        \"samples\": [\n          \"BODYCARE Printed Panty for Girls Pack of 6 from Bodycare brings collection of Panty for Girls pack of 6 with highly streachable easy to comfort & stylish designs with 100 % cotton fabric\",\n          \"Pindia Plastic Luminous Fluorescent Glowing Night Sky Wall Sticker Radium Glow Stars Starry Sky (2 cm x 2 cm x 1 cm, Green, Set of 55) Have you ever dreamt of converting your room into a starry night as a child. Then here is your chance to make your dreams come true. Buy these glow in the dark vinyl stickers of stars and stick it on walls and ceilings of your room and you will get a starry night effect once the lights are turned off. This will take you to a galaxy ride for sure. Note: The exact color shade of the product may differ from batch to batch.\",\n          \"Sojanya (Since 1958), Men's Black Cotton Kurta Churidar Pyjama sets SOJANYA as a brand brings you quality and affordability. In market since 1958, we take pride in our commitment to maintain quality standards in each piece manufactured by us. Look your ethnic best wearing this Black and Off White Cotton Blend kurta and Pyjama Set . Made of Cotton Blend fabric, this regular-fit kurta Pyjama Set comprises a full-sleeved Cotton Blend kurta and churidaar Pyjama Set. Team this outifit with embroidered mojris and look apart on special occasions.\"\n        ],\n        \"semantic_type\": \"\",\n        \"description\": \"\"\n      }\n    },\n    {\n      \"column\": \"Category_code\",\n      \"properties\": {\n        \"dtype\": \"number\",\n        \"std\": 1,\n        \"min\": 0,\n        \"max\": 3,\n        \"num_unique_values\": 4,\n        \"samples\": [\n          2,\n          3,\n          1\n        ],\n        \"semantic_type\": \"\",\n        \"description\": \"\"\n      }\n    },\n    {\n      \"column\": \"len\",\n      \"properties\": {\n        \"dtype\": \"number\",\n        \"std\": 46,\n        \"min\": 12,\n        \"max\": 182,\n        \"num_unique_values\": 171,\n        \"samples\": [\n          86,\n          65,\n          132\n        ],\n        \"semantic_type\": \"\",\n        \"description\": \"\"\n      }\n    },\n    {\n      \"column\": \"clean_text\",\n      \"properties\": {\n        \"dtype\": \"string\",\n        \"num_unique_values\": 15984,\n        \"samples\": [\n          \"fourgee boy jean let champ step style pair jean presented reputed brand fourgee jean come comfortable trendy look make neat addition wardrobe kid make look great slim fit style best suited casual wear made premium quality denim material remain soft skin long kid look great complementing pair casual printed shirt sneaker\",\n          \"goodway boy cotton full sleeve mom dad theme shirt pack 3 goodway give combo pack shirt made 100 cotton combed fabric specially design little one keep one step ahead team\",\n          \"digitek dfl 003 camera flash speed light black universal low pressure trigger flash s1 s2 wireless trigger flash simple use super speed charging recycle automatic saving function keep current setting flash light saved fit canon eos power hot series nikon dslr olympus four third micro four third digital camera panasonic fujifilm panasonic samsung dslr highly sensitive wireless sensor allows camera trigger flash fire far distance standard pc synchronous port guide 38 iso 100 flash mode manual s1 s2 vertical rotation angle 0 90 degree horizontal rotation angle 0 270 degree power 4xaa size battery alkaline ni mh usable lighting time 100 1500 time aa alkaline battery used recycle time approx 0 1 5 aa alkaline battery used lighting quantity output control 1 8 strop increment color temperature 5600k plus 200k flash duration 1 200 1 20000s content flash light x 1 protection bagx1 mini stand x1 manual\"\n        ],\n        \"semantic_type\": \"\",\n        \"description\": \"\"\n      }\n    }\n  ]\n}",
              "type": "dataframe",
              "variable_name": "data"
            },
            "text/html": [
              "\n",
              "  <div id=\"df-3e7e173c-df18-4840-be74-f886523c3f34\" class=\"colab-df-container\">\n",
              "    <div>\n",
              "<style scoped>\n",
              "    .dataframe tbody tr th:only-of-type {\n",
              "        vertical-align: middle;\n",
              "    }\n",
              "\n",
              "    .dataframe tbody tr th {\n",
              "        vertical-align: top;\n",
              "    }\n",
              "\n",
              "    .dataframe thead th {\n",
              "        text-align: right;\n",
              "    }\n",
              "</style>\n",
              "<table border=\"1\" class=\"dataframe\">\n",
              "  <thead>\n",
              "    <tr style=\"text-align: right;\">\n",
              "      <th></th>\n",
              "      <th>Category</th>\n",
              "      <th>Text</th>\n",
              "      <th>Category_code</th>\n",
              "      <th>len</th>\n",
              "      <th>clean_text</th>\n",
              "    </tr>\n",
              "  </thead>\n",
              "  <tbody>\n",
              "    <tr>\n",
              "      <th>0</th>\n",
              "      <td>Books</td>\n",
              "      <td>25 Years AIIMS Chapterwise Solutions -Biology ...</td>\n",
              "      <td>1</td>\n",
              "      <td>94</td>\n",
              "      <td>25 year aiims chapterwise solution biology 201...</td>\n",
              "    </tr>\n",
              "    <tr>\n",
              "      <th>1</th>\n",
              "      <td>Books</td>\n",
              "      <td>Fundamentals of Digital Marketing by Pearson A...</td>\n",
              "      <td>1</td>\n",
              "      <td>97</td>\n",
              "      <td>fundamental digital marketing pearson author p...</td>\n",
              "    </tr>\n",
              "    <tr>\n",
              "      <th>2</th>\n",
              "      <td>Clothing &amp; Accessories</td>\n",
              "      <td>Milano Women's Cotton Floral Embroidery Hankie...</td>\n",
              "      <td>2</td>\n",
              "      <td>28</td>\n",
              "      <td>milano woman cotton floral embroidery hanky mu...</td>\n",
              "    </tr>\n",
              "    <tr>\n",
              "      <th>3</th>\n",
              "      <td>Household</td>\n",
              "      <td>Resqtech 25 Liter 12V Dc Bucket Car Washer - Y...</td>\n",
              "      <td>0</td>\n",
              "      <td>102</td>\n",
              "      <td>resqtech 25 liter 12v dc bucket car washer yel...</td>\n",
              "    </tr>\n",
              "    <tr>\n",
              "      <th>4</th>\n",
              "      <td>Electronics</td>\n",
              "      <td>HP 12A Black Original LaserJet Toner Cartridge...</td>\n",
              "      <td>3</td>\n",
              "      <td>104</td>\n",
              "      <td>hp 12a black original laserjet toner cartridge...</td>\n",
              "    </tr>\n",
              "  </tbody>\n",
              "</table>\n",
              "</div>\n",
              "    <div class=\"colab-df-buttons\">\n",
              "\n",
              "  <div class=\"colab-df-container\">\n",
              "    <button class=\"colab-df-convert\" onclick=\"convertToInteractive('df-3e7e173c-df18-4840-be74-f886523c3f34')\"\n",
              "            title=\"Convert this dataframe to an interactive table.\"\n",
              "            style=\"display:none;\">\n",
              "\n",
              "  <svg xmlns=\"http://www.w3.org/2000/svg\" height=\"24px\" viewBox=\"0 -960 960 960\">\n",
              "    <path d=\"M120-120v-720h720v720H120Zm60-500h600v-160H180v160Zm220 220h160v-160H400v160Zm0 220h160v-160H400v160ZM180-400h160v-160H180v160Zm440 0h160v-160H620v160ZM180-180h160v-160H180v160Zm440 0h160v-160H620v160Z\"/>\n",
              "  </svg>\n",
              "    </button>\n",
              "\n",
              "  <style>\n",
              "    .colab-df-container {\n",
              "      display:flex;\n",
              "      gap: 12px;\n",
              "    }\n",
              "\n",
              "    .colab-df-convert {\n",
              "      background-color: #E8F0FE;\n",
              "      border: none;\n",
              "      border-radius: 50%;\n",
              "      cursor: pointer;\n",
              "      display: none;\n",
              "      fill: #1967D2;\n",
              "      height: 32px;\n",
              "      padding: 0 0 0 0;\n",
              "      width: 32px;\n",
              "    }\n",
              "\n",
              "    .colab-df-convert:hover {\n",
              "      background-color: #E2EBFA;\n",
              "      box-shadow: 0px 1px 2px rgba(60, 64, 67, 0.3), 0px 1px 3px 1px rgba(60, 64, 67, 0.15);\n",
              "      fill: #174EA6;\n",
              "    }\n",
              "\n",
              "    .colab-df-buttons div {\n",
              "      margin-bottom: 4px;\n",
              "    }\n",
              "\n",
              "    [theme=dark] .colab-df-convert {\n",
              "      background-color: #3B4455;\n",
              "      fill: #D2E3FC;\n",
              "    }\n",
              "\n",
              "    [theme=dark] .colab-df-convert:hover {\n",
              "      background-color: #434B5C;\n",
              "      box-shadow: 0px 1px 3px 1px rgba(0, 0, 0, 0.15);\n",
              "      filter: drop-shadow(0px 1px 2px rgba(0, 0, 0, 0.3));\n",
              "      fill: #FFFFFF;\n",
              "    }\n",
              "  </style>\n",
              "\n",
              "    <script>\n",
              "      const buttonEl =\n",
              "        document.querySelector('#df-3e7e173c-df18-4840-be74-f886523c3f34 button.colab-df-convert');\n",
              "      buttonEl.style.display =\n",
              "        google.colab.kernel.accessAllowed ? 'block' : 'none';\n",
              "\n",
              "      async function convertToInteractive(key) {\n",
              "        const element = document.querySelector('#df-3e7e173c-df18-4840-be74-f886523c3f34');\n",
              "        const dataTable =\n",
              "          await google.colab.kernel.invokeFunction('convertToInteractive',\n",
              "                                                    [key], {});\n",
              "        if (!dataTable) return;\n",
              "\n",
              "        const docLinkHtml = 'Like what you see? Visit the ' +\n",
              "          '<a target=\"_blank\" href=https://colab.research.google.com/notebooks/data_table.ipynb>data table notebook</a>'\n",
              "          + ' to learn more about interactive tables.';\n",
              "        element.innerHTML = '';\n",
              "        dataTable['output_type'] = 'display_data';\n",
              "        await google.colab.output.renderOutput(dataTable, element);\n",
              "        const docLink = document.createElement('div');\n",
              "        docLink.innerHTML = docLinkHtml;\n",
              "        element.appendChild(docLink);\n",
              "      }\n",
              "    </script>\n",
              "  </div>\n",
              "\n",
              "\n",
              "<div id=\"df-88a164db-bc4e-4b21-bd18-a6e5fbb73ea5\">\n",
              "  <button class=\"colab-df-quickchart\" onclick=\"quickchart('df-88a164db-bc4e-4b21-bd18-a6e5fbb73ea5')\"\n",
              "            title=\"Suggest charts\"\n",
              "            style=\"display:none;\">\n",
              "\n",
              "<svg xmlns=\"http://www.w3.org/2000/svg\" height=\"24px\"viewBox=\"0 0 24 24\"\n",
              "     width=\"24px\">\n",
              "    <g>\n",
              "        <path d=\"M19 3H5c-1.1 0-2 .9-2 2v14c0 1.1.9 2 2 2h14c1.1 0 2-.9 2-2V5c0-1.1-.9-2-2-2zM9 17H7v-7h2v7zm4 0h-2V7h2v10zm4 0h-2v-4h2v4z\"/>\n",
              "    </g>\n",
              "</svg>\n",
              "  </button>\n",
              "\n",
              "<style>\n",
              "  .colab-df-quickchart {\n",
              "      --bg-color: #E8F0FE;\n",
              "      --fill-color: #1967D2;\n",
              "      --hover-bg-color: #E2EBFA;\n",
              "      --hover-fill-color: #174EA6;\n",
              "      --disabled-fill-color: #AAA;\n",
              "      --disabled-bg-color: #DDD;\n",
              "  }\n",
              "\n",
              "  [theme=dark] .colab-df-quickchart {\n",
              "      --bg-color: #3B4455;\n",
              "      --fill-color: #D2E3FC;\n",
              "      --hover-bg-color: #434B5C;\n",
              "      --hover-fill-color: #FFFFFF;\n",
              "      --disabled-bg-color: #3B4455;\n",
              "      --disabled-fill-color: #666;\n",
              "  }\n",
              "\n",
              "  .colab-df-quickchart {\n",
              "    background-color: var(--bg-color);\n",
              "    border: none;\n",
              "    border-radius: 50%;\n",
              "    cursor: pointer;\n",
              "    display: none;\n",
              "    fill: var(--fill-color);\n",
              "    height: 32px;\n",
              "    padding: 0;\n",
              "    width: 32px;\n",
              "  }\n",
              "\n",
              "  .colab-df-quickchart:hover {\n",
              "    background-color: var(--hover-bg-color);\n",
              "    box-shadow: 0 1px 2px rgba(60, 64, 67, 0.3), 0 1px 3px 1px rgba(60, 64, 67, 0.15);\n",
              "    fill: var(--button-hover-fill-color);\n",
              "  }\n",
              "\n",
              "  .colab-df-quickchart-complete:disabled,\n",
              "  .colab-df-quickchart-complete:disabled:hover {\n",
              "    background-color: var(--disabled-bg-color);\n",
              "    fill: var(--disabled-fill-color);\n",
              "    box-shadow: none;\n",
              "  }\n",
              "\n",
              "  .colab-df-spinner {\n",
              "    border: 2px solid var(--fill-color);\n",
              "    border-color: transparent;\n",
              "    border-bottom-color: var(--fill-color);\n",
              "    animation:\n",
              "      spin 1s steps(1) infinite;\n",
              "  }\n",
              "\n",
              "  @keyframes spin {\n",
              "    0% {\n",
              "      border-color: transparent;\n",
              "      border-bottom-color: var(--fill-color);\n",
              "      border-left-color: var(--fill-color);\n",
              "    }\n",
              "    20% {\n",
              "      border-color: transparent;\n",
              "      border-left-color: var(--fill-color);\n",
              "      border-top-color: var(--fill-color);\n",
              "    }\n",
              "    30% {\n",
              "      border-color: transparent;\n",
              "      border-left-color: var(--fill-color);\n",
              "      border-top-color: var(--fill-color);\n",
              "      border-right-color: var(--fill-color);\n",
              "    }\n",
              "    40% {\n",
              "      border-color: transparent;\n",
              "      border-right-color: var(--fill-color);\n",
              "      border-top-color: var(--fill-color);\n",
              "    }\n",
              "    60% {\n",
              "      border-color: transparent;\n",
              "      border-right-color: var(--fill-color);\n",
              "    }\n",
              "    80% {\n",
              "      border-color: transparent;\n",
              "      border-right-color: var(--fill-color);\n",
              "      border-bottom-color: var(--fill-color);\n",
              "    }\n",
              "    90% {\n",
              "      border-color: transparent;\n",
              "      border-bottom-color: var(--fill-color);\n",
              "    }\n",
              "  }\n",
              "</style>\n",
              "\n",
              "  <script>\n",
              "    async function quickchart(key) {\n",
              "      const quickchartButtonEl =\n",
              "        document.querySelector('#' + key + ' button');\n",
              "      quickchartButtonEl.disabled = true;  // To prevent multiple clicks.\n",
              "      quickchartButtonEl.classList.add('colab-df-spinner');\n",
              "      try {\n",
              "        const charts = await google.colab.kernel.invokeFunction(\n",
              "            'suggestCharts', [key], {});\n",
              "      } catch (error) {\n",
              "        console.error('Error during call to suggestCharts:', error);\n",
              "      }\n",
              "      quickchartButtonEl.classList.remove('colab-df-spinner');\n",
              "      quickchartButtonEl.classList.add('colab-df-quickchart-complete');\n",
              "    }\n",
              "    (() => {\n",
              "      let quickchartButtonEl =\n",
              "        document.querySelector('#df-88a164db-bc4e-4b21-bd18-a6e5fbb73ea5 button');\n",
              "      quickchartButtonEl.style.display =\n",
              "        google.colab.kernel.accessAllowed ? 'block' : 'none';\n",
              "    })();\n",
              "  </script>\n",
              "</div>\n",
              "    </div>\n",
              "  </div>\n"
            ],
            "text/plain": [
              "                 Category                                               Text  \\\n",
              "0                   Books  25 Years AIIMS Chapterwise Solutions -Biology ...   \n",
              "1                   Books  Fundamentals of Digital Marketing by Pearson A...   \n",
              "2  Clothing & Accessories  Milano Women's Cotton Floral Embroidery Hankie...   \n",
              "3               Household  Resqtech 25 Liter 12V Dc Bucket Car Washer - Y...   \n",
              "4             Electronics  HP 12A Black Original LaserJet Toner Cartridge...   \n",
              "\n",
              "   Category_code  len                                         clean_text  \n",
              "0              1   94  25 year aiims chapterwise solution biology 201...  \n",
              "1              1   97  fundamental digital marketing pearson author p...  \n",
              "2              2   28  milano woman cotton floral embroidery hanky mu...  \n",
              "3              0  102  resqtech 25 liter 12v dc bucket car washer yel...  \n",
              "4              3  104  hp 12a black original laserjet toner cartridge...  "
            ]
          },
          "execution_count": 29,
          "metadata": {},
          "output_type": "execute_result"
        }
      ],
      "source": [
        "data.head()"
      ]
    },
    {
      "cell_type": "code",
      "execution_count": null,
      "metadata": {
        "id": "zIQ9etTqGYgV"
      },
      "outputs": [],
      "source": [
        "data.to_csv('dataset.csv')"
      ]
    },
    {
      "cell_type": "markdown",
      "metadata": {
        "id": "Yitr3BkAGCDJ"
      },
      "source": [
        "## Classic ML methods"
      ]
    },
    {
      "cell_type": "code",
      "execution_count": null,
      "metadata": {
        "id": "Iq8ExX2XtY3z"
      },
      "outputs": [],
      "source": [
        "from sklearn.model_selection import train_test_split\n",
        "from sklearn.feature_extraction.text import CountVectorizer\n",
        "\n",
        "from sklearn.metrics import accuracy_score, f1_score, confusion_matrix, classification_report\n",
        "from sklearn import model_selection\n",
        "from sklearn.linear_model import LogisticRegression\n",
        "from sklearn.ensemble import RandomForestClassifier, GradientBoostingClassifier\n",
        "from sklearn.svm import SVC\n",
        "from sklearn.neighbors import KNeighborsClassifier"
      ]
    },
    {
      "cell_type": "code",
      "execution_count": null,
      "metadata": {
        "id": "oTGC29k-fk8-"
      },
      "outputs": [],
      "source": [
        "df = pd.read_csv('./dataset.csv', index_col = 0)"
      ]
    },
    {
      "cell_type": "code",
      "execution_count": null,
      "metadata": {
        "id": "QxQBfscNeWk9"
      },
      "outputs": [],
      "source": [
        "df['Text'] = df['clean_text']\n",
        "df = df[['Text', 'Category_code']]"
      ]
    },
    {
      "cell_type": "code",
      "execution_count": null,
      "metadata": {
        "colab": {
          "base_uri": "https://localhost:8080/",
          "height": 424
        },
        "id": "QNhbGMKutoHZ",
        "outputId": "9c2cb664-b0dc-471d-bb0b-70ef0897b1c0"
      },
      "outputs": [
        {
          "data": {
            "application/vnd.google.colaboratory.intrinsic+json": {
              "summary": "{\n  \"name\": \"df\",\n  \"rows\": 25636,\n  \"fields\": [\n    {\n      \"column\": \"Text\",\n      \"properties\": {\n        \"dtype\": \"string\",\n        \"num_unique_values\": 15984,\n        \"samples\": [\n          \"vimal men cotton track pant vimal trackpants made 100 rich combed cotton give rich look skin friendly fabric tremendoudly comfort wearing deep side pocket better consumer need bottom tape adding quality product buy unique cool trackpants feel vimal\",\n          \"emergency medicine publisher cbs publication cover paperback page 250 date publication 2014 language english isbn 13 9788123923772 isbn 10 8123923775 year publication 2014 author n chugh\",\n          \"philip dl167 40 fm radio fm radio player philip dl167 40 fm radio great portable music player let enjoy favourite fm radio channel like round loudspeaker dl167 40 fm radio deliver high quality sound crystal clarity crispness acoustic also fine tune audio quality using integrated telescopic aerial antenna help device receive signal seamlessly optimal frequency range featured dl167 40 fm radio 88000 108000 khz fm 520 1605 khz allows listen almost radio station choose table top design compact lightweight dl167 40 fm radio fit small corner desk table top structure crafted keeping convenience portability mind also quickly tune preferred radio channel external power button volume tuning control provide customization adjustment loudness tuning soundtrack\"\n        ],\n        \"semantic_type\": \"\",\n        \"description\": \"\"\n      }\n    },\n    {\n      \"column\": \"Category_code\",\n      \"properties\": {\n        \"dtype\": \"number\",\n        \"std\": 1,\n        \"min\": 0,\n        \"max\": 3,\n        \"num_unique_values\": 4,\n        \"samples\": [\n          2,\n          1,\n          3\n        ],\n        \"semantic_type\": \"\",\n        \"description\": \"\"\n      }\n    }\n  ]\n}",
              "type": "dataframe",
              "variable_name": "df"
            },
            "text/html": [
              "\n",
              "  <div id=\"df-796b9d16-0516-439f-9690-0eeb41de99d9\" class=\"colab-df-container\">\n",
              "    <div>\n",
              "<style scoped>\n",
              "    .dataframe tbody tr th:only-of-type {\n",
              "        vertical-align: middle;\n",
              "    }\n",
              "\n",
              "    .dataframe tbody tr th {\n",
              "        vertical-align: top;\n",
              "    }\n",
              "\n",
              "    .dataframe thead th {\n",
              "        text-align: right;\n",
              "    }\n",
              "</style>\n",
              "<table border=\"1\" class=\"dataframe\">\n",
              "  <thead>\n",
              "    <tr style=\"text-align: right;\">\n",
              "      <th></th>\n",
              "      <th>Text</th>\n",
              "      <th>Category_code</th>\n",
              "    </tr>\n",
              "  </thead>\n",
              "  <tbody>\n",
              "    <tr>\n",
              "      <th>0</th>\n",
              "      <td>medha j plus 500w professional high power pa a...</td>\n",
              "      <td>3</td>\n",
              "    </tr>\n",
              "    <tr>\n",
              "      <th>1</th>\n",
              "      <td>hanes men plain thermal bottom hanes men white...</td>\n",
              "      <td>2</td>\n",
              "    </tr>\n",
              "    <tr>\n",
              "      <th>2</th>\n",
              "      <td>pindia heart polyester window thread curtain 6...</td>\n",
              "      <td>0</td>\n",
              "    </tr>\n",
              "    <tr>\n",
              "      <th>3</th>\n",
              "      <td>u polo assn men cotton pyjama bottom u polo as...</td>\n",
              "      <td>2</td>\n",
              "    </tr>\n",
              "    <tr>\n",
              "      <th>4</th>\n",
              "      <td>castor smart cool 20 litre 3 level speed inver...</td>\n",
              "      <td>0</td>\n",
              "    </tr>\n",
              "    <tr>\n",
              "      <th>...</th>\n",
              "      <td>...</td>\n",
              "      <td>...</td>\n",
              "    </tr>\n",
              "    <tr>\n",
              "      <th>25631</th>\n",
              "      <td>red tape men waistcoat elegant tailoring defin...</td>\n",
              "      <td>2</td>\n",
              "    </tr>\n",
              "    <tr>\n",
              "      <th>25632</th>\n",
              "      <td>introduction chemical engineering author salil...</td>\n",
              "      <td>1</td>\n",
              "    </tr>\n",
              "    <tr>\n",
              "      <th>25633</th>\n",
              "      <td>sony x gtx122lt box subwoofer black pp mica re...</td>\n",
              "      <td>3</td>\n",
              "    </tr>\n",
              "    <tr>\n",
              "      <th>25634</th>\n",
              "      <td>tucute woman beautiful check print border feed...</td>\n",
              "      <td>2</td>\n",
              "    </tr>\n",
              "    <tr>\n",
              "      <th>25635</th>\n",
              "      <td>littly khadi style ethnic wear kid cotton kurt...</td>\n",
              "      <td>2</td>\n",
              "    </tr>\n",
              "  </tbody>\n",
              "</table>\n",
              "<p>25636 rows × 2 columns</p>\n",
              "</div>\n",
              "    <div class=\"colab-df-buttons\">\n",
              "\n",
              "  <div class=\"colab-df-container\">\n",
              "    <button class=\"colab-df-convert\" onclick=\"convertToInteractive('df-796b9d16-0516-439f-9690-0eeb41de99d9')\"\n",
              "            title=\"Convert this dataframe to an interactive table.\"\n",
              "            style=\"display:none;\">\n",
              "\n",
              "  <svg xmlns=\"http://www.w3.org/2000/svg\" height=\"24px\" viewBox=\"0 -960 960 960\">\n",
              "    <path d=\"M120-120v-720h720v720H120Zm60-500h600v-160H180v160Zm220 220h160v-160H400v160Zm0 220h160v-160H400v160ZM180-400h160v-160H180v160Zm440 0h160v-160H620v160ZM180-180h160v-160H180v160Zm440 0h160v-160H620v160Z\"/>\n",
              "  </svg>\n",
              "    </button>\n",
              "\n",
              "  <style>\n",
              "    .colab-df-container {\n",
              "      display:flex;\n",
              "      gap: 12px;\n",
              "    }\n",
              "\n",
              "    .colab-df-convert {\n",
              "      background-color: #E8F0FE;\n",
              "      border: none;\n",
              "      border-radius: 50%;\n",
              "      cursor: pointer;\n",
              "      display: none;\n",
              "      fill: #1967D2;\n",
              "      height: 32px;\n",
              "      padding: 0 0 0 0;\n",
              "      width: 32px;\n",
              "    }\n",
              "\n",
              "    .colab-df-convert:hover {\n",
              "      background-color: #E2EBFA;\n",
              "      box-shadow: 0px 1px 2px rgba(60, 64, 67, 0.3), 0px 1px 3px 1px rgba(60, 64, 67, 0.15);\n",
              "      fill: #174EA6;\n",
              "    }\n",
              "\n",
              "    .colab-df-buttons div {\n",
              "      margin-bottom: 4px;\n",
              "    }\n",
              "\n",
              "    [theme=dark] .colab-df-convert {\n",
              "      background-color: #3B4455;\n",
              "      fill: #D2E3FC;\n",
              "    }\n",
              "\n",
              "    [theme=dark] .colab-df-convert:hover {\n",
              "      background-color: #434B5C;\n",
              "      box-shadow: 0px 1px 3px 1px rgba(0, 0, 0, 0.15);\n",
              "      filter: drop-shadow(0px 1px 2px rgba(0, 0, 0, 0.3));\n",
              "      fill: #FFFFFF;\n",
              "    }\n",
              "  </style>\n",
              "\n",
              "    <script>\n",
              "      const buttonEl =\n",
              "        document.querySelector('#df-796b9d16-0516-439f-9690-0eeb41de99d9 button.colab-df-convert');\n",
              "      buttonEl.style.display =\n",
              "        google.colab.kernel.accessAllowed ? 'block' : 'none';\n",
              "\n",
              "      async function convertToInteractive(key) {\n",
              "        const element = document.querySelector('#df-796b9d16-0516-439f-9690-0eeb41de99d9');\n",
              "        const dataTable =\n",
              "          await google.colab.kernel.invokeFunction('convertToInteractive',\n",
              "                                                    [key], {});\n",
              "        if (!dataTable) return;\n",
              "\n",
              "        const docLinkHtml = 'Like what you see? Visit the ' +\n",
              "          '<a target=\"_blank\" href=https://colab.research.google.com/notebooks/data_table.ipynb>data table notebook</a>'\n",
              "          + ' to learn more about interactive tables.';\n",
              "        element.innerHTML = '';\n",
              "        dataTable['output_type'] = 'display_data';\n",
              "        await google.colab.output.renderOutput(dataTable, element);\n",
              "        const docLink = document.createElement('div');\n",
              "        docLink.innerHTML = docLinkHtml;\n",
              "        element.appendChild(docLink);\n",
              "      }\n",
              "    </script>\n",
              "  </div>\n",
              "\n",
              "\n",
              "<div id=\"df-59508777-1511-4926-b4b0-ad5700e5ac58\">\n",
              "  <button class=\"colab-df-quickchart\" onclick=\"quickchart('df-59508777-1511-4926-b4b0-ad5700e5ac58')\"\n",
              "            title=\"Suggest charts\"\n",
              "            style=\"display:none;\">\n",
              "\n",
              "<svg xmlns=\"http://www.w3.org/2000/svg\" height=\"24px\"viewBox=\"0 0 24 24\"\n",
              "     width=\"24px\">\n",
              "    <g>\n",
              "        <path d=\"M19 3H5c-1.1 0-2 .9-2 2v14c0 1.1.9 2 2 2h14c1.1 0 2-.9 2-2V5c0-1.1-.9-2-2-2zM9 17H7v-7h2v7zm4 0h-2V7h2v10zm4 0h-2v-4h2v4z\"/>\n",
              "    </g>\n",
              "</svg>\n",
              "  </button>\n",
              "\n",
              "<style>\n",
              "  .colab-df-quickchart {\n",
              "      --bg-color: #E8F0FE;\n",
              "      --fill-color: #1967D2;\n",
              "      --hover-bg-color: #E2EBFA;\n",
              "      --hover-fill-color: #174EA6;\n",
              "      --disabled-fill-color: #AAA;\n",
              "      --disabled-bg-color: #DDD;\n",
              "  }\n",
              "\n",
              "  [theme=dark] .colab-df-quickchart {\n",
              "      --bg-color: #3B4455;\n",
              "      --fill-color: #D2E3FC;\n",
              "      --hover-bg-color: #434B5C;\n",
              "      --hover-fill-color: #FFFFFF;\n",
              "      --disabled-bg-color: #3B4455;\n",
              "      --disabled-fill-color: #666;\n",
              "  }\n",
              "\n",
              "  .colab-df-quickchart {\n",
              "    background-color: var(--bg-color);\n",
              "    border: none;\n",
              "    border-radius: 50%;\n",
              "    cursor: pointer;\n",
              "    display: none;\n",
              "    fill: var(--fill-color);\n",
              "    height: 32px;\n",
              "    padding: 0;\n",
              "    width: 32px;\n",
              "  }\n",
              "\n",
              "  .colab-df-quickchart:hover {\n",
              "    background-color: var(--hover-bg-color);\n",
              "    box-shadow: 0 1px 2px rgba(60, 64, 67, 0.3), 0 1px 3px 1px rgba(60, 64, 67, 0.15);\n",
              "    fill: var(--button-hover-fill-color);\n",
              "  }\n",
              "\n",
              "  .colab-df-quickchart-complete:disabled,\n",
              "  .colab-df-quickchart-complete:disabled:hover {\n",
              "    background-color: var(--disabled-bg-color);\n",
              "    fill: var(--disabled-fill-color);\n",
              "    box-shadow: none;\n",
              "  }\n",
              "\n",
              "  .colab-df-spinner {\n",
              "    border: 2px solid var(--fill-color);\n",
              "    border-color: transparent;\n",
              "    border-bottom-color: var(--fill-color);\n",
              "    animation:\n",
              "      spin 1s steps(1) infinite;\n",
              "  }\n",
              "\n",
              "  @keyframes spin {\n",
              "    0% {\n",
              "      border-color: transparent;\n",
              "      border-bottom-color: var(--fill-color);\n",
              "      border-left-color: var(--fill-color);\n",
              "    }\n",
              "    20% {\n",
              "      border-color: transparent;\n",
              "      border-left-color: var(--fill-color);\n",
              "      border-top-color: var(--fill-color);\n",
              "    }\n",
              "    30% {\n",
              "      border-color: transparent;\n",
              "      border-left-color: var(--fill-color);\n",
              "      border-top-color: var(--fill-color);\n",
              "      border-right-color: var(--fill-color);\n",
              "    }\n",
              "    40% {\n",
              "      border-color: transparent;\n",
              "      border-right-color: var(--fill-color);\n",
              "      border-top-color: var(--fill-color);\n",
              "    }\n",
              "    60% {\n",
              "      border-color: transparent;\n",
              "      border-right-color: var(--fill-color);\n",
              "    }\n",
              "    80% {\n",
              "      border-color: transparent;\n",
              "      border-right-color: var(--fill-color);\n",
              "      border-bottom-color: var(--fill-color);\n",
              "    }\n",
              "    90% {\n",
              "      border-color: transparent;\n",
              "      border-bottom-color: var(--fill-color);\n",
              "    }\n",
              "  }\n",
              "</style>\n",
              "\n",
              "  <script>\n",
              "    async function quickchart(key) {\n",
              "      const quickchartButtonEl =\n",
              "        document.querySelector('#' + key + ' button');\n",
              "      quickchartButtonEl.disabled = true;  // To prevent multiple clicks.\n",
              "      quickchartButtonEl.classList.add('colab-df-spinner');\n",
              "      try {\n",
              "        const charts = await google.colab.kernel.invokeFunction(\n",
              "            'suggestCharts', [key], {});\n",
              "      } catch (error) {\n",
              "        console.error('Error during call to suggestCharts:', error);\n",
              "      }\n",
              "      quickchartButtonEl.classList.remove('colab-df-spinner');\n",
              "      quickchartButtonEl.classList.add('colab-df-quickchart-complete');\n",
              "    }\n",
              "    (() => {\n",
              "      let quickchartButtonEl =\n",
              "        document.querySelector('#df-59508777-1511-4926-b4b0-ad5700e5ac58 button');\n",
              "      quickchartButtonEl.style.display =\n",
              "        google.colab.kernel.accessAllowed ? 'block' : 'none';\n",
              "    })();\n",
              "  </script>\n",
              "</div>\n",
              "    </div>\n",
              "  </div>\n"
            ],
            "text/plain": [
              "                                                    Text  Category_code\n",
              "0      medha j plus 500w professional high power pa a...              3\n",
              "1      hanes men plain thermal bottom hanes men white...              2\n",
              "2      pindia heart polyester window thread curtain 6...              0\n",
              "3      u polo assn men cotton pyjama bottom u polo as...              2\n",
              "4      castor smart cool 20 litre 3 level speed inver...              0\n",
              "...                                                  ...            ...\n",
              "25631  red tape men waistcoat elegant tailoring defin...              2\n",
              "25632  introduction chemical engineering author salil...              1\n",
              "25633  sony x gtx122lt box subwoofer black pp mica re...              3\n",
              "25634  tucute woman beautiful check print border feed...              2\n",
              "25635  littly khadi style ethnic wear kid cotton kurt...              2\n",
              "\n",
              "[25636 rows x 2 columns]"
            ]
          },
          "execution_count": 38,
          "metadata": {},
          "output_type": "execute_result"
        }
      ],
      "source": [
        "df"
      ]
    },
    {
      "cell_type": "markdown",
      "metadata": {
        "id": "EXKXfCAYeZas"
      },
      "source": [
        "### Test/Train splitting"
      ]
    },
    {
      "cell_type": "code",
      "execution_count": null,
      "metadata": {
        "id": "XFaXwUGOsT0A"
      },
      "outputs": [],
      "source": [
        "test_size = 0.3\n",
        "\n",
        "X_train, X_test, y_train, y_test = train_test_split(df['Text'],\n",
        "                                                    df['Category_code'],\n",
        "                                                    test_size=test_size,\n",
        "                                                    random_state=42)\n"
      ]
    },
    {
      "cell_type": "markdown",
      "metadata": {
        "id": "Qwmw-tOXjwj7"
      },
      "source": [
        "### Bag of Words text representation"
      ]
    },
    {
      "cell_type": "code",
      "execution_count": null,
      "metadata": {
        "id": "HIf0OpwnjrJU"
      },
      "outputs": [],
      "source": [
        "vectorizer = CountVectorizer()\n",
        "X_train_coded = vectorizer.fit_transform(X_train)\n",
        "X_test_coded = vectorizer.transform(X_test)"
      ]
    },
    {
      "cell_type": "code",
      "execution_count": null,
      "metadata": {
        "colab": {
          "base_uri": "https://localhost:8080/"
        },
        "id": "6YUb-peZkEXa",
        "outputId": "a2f37e80-d015-4525-df1f-7af63e38ef6c"
      },
      "outputs": [
        {
          "name": "stdout",
          "output_type": "stream",
          "text": [
            "              precision    recall  f1-score   support\n",
            "\n",
            "           0       0.95      0.96      0.95      1929\n",
            "           1       0.97      0.96      0.97      1917\n",
            "           2       0.98      0.98      0.98      1993\n",
            "           3       0.96      0.97      0.96      1852\n",
            "\n",
            "    accuracy                           0.97      7691\n",
            "   macro avg       0.97      0.97      0.97      7691\n",
            "weighted avg       0.97      0.97      0.97      7691\n",
            "\n"
          ]
        },
        {
          "name": "stderr",
          "output_type": "stream",
          "text": [
            "/usr/local/lib/python3.10/dist-packages/sklearn/linear_model/_logistic.py:458: ConvergenceWarning: lbfgs failed to converge (status=1):\n",
            "STOP: TOTAL NO. of ITERATIONS REACHED LIMIT.\n",
            "\n",
            "Increase the number of iterations (max_iter) or scale the data as shown in:\n",
            "    https://scikit-learn.org/stable/modules/preprocessing.html\n",
            "Please also refer to the documentation for alternative solver options:\n",
            "    https://scikit-learn.org/stable/modules/linear_model.html#logistic-regression\n",
            "  n_iter_i = _check_optimize_result(\n"
          ]
        }
      ],
      "source": [
        "clf = LogisticRegression(random_state=0).fit(X_train_coded, y_train)\n",
        "y_pred = clf.predict(X_test_coded)\n",
        "\n",
        "print(classification_report(y_pred, y_test))"
      ]
    },
    {
      "cell_type": "code",
      "execution_count": null,
      "metadata": {
        "id": "_8TtiO1Udxya"
      },
      "outputs": [],
      "source": [
        "def plot_confusion(y_test, y_pred):\n",
        "    dict_normal_names = {0:'Household', 1:'Books', 2:'Clothing & Accessories', 3:'Electronics'}\n",
        "    data = confusion_matrix(y_test, y_pred)\n",
        "    df_cm = pd.DataFrame(data, columns = list(map(dict_normal_names.get, list(np.unique(y_test)))),\n",
        "                                index = list(map(dict_normal_names.get, list(np.unique(y_test)))))\n",
        "    df_cm.index.name = 'Actual'\n",
        "    df_cm.columns.name = 'Predicted'\n",
        "\n",
        "    f, ax = plt.subplots(figsize=(4, 5))\n",
        "    cmap = sns.cubehelix_palette(light=1, as_cmap=True)\n",
        "\n",
        "    sns.heatmap(df_cm, cbar=False, annot=True, cmap=cmap, square=True, fmt='.0f',\n",
        "                annot_kws={'size': 10})\n",
        "    plt.title('Actuals vs Predicted')\n",
        "    plt.show()"
      ]
    },
    {
      "cell_type": "code",
      "execution_count": null,
      "metadata": {
        "colab": {
          "base_uri": "https://localhost:8080/",
          "height": 556
        },
        "id": "0nX4GiyXVuqc",
        "outputId": "b032a456-e241-408b-e6ac-fe63a4441f10"
      },
      "outputs": [
        {
          "data": {
            "image/png": "[encoded data removed]",
            "text/plain": [
              "<Figure size 400x500 with 1 Axes>"
            ]
          },
          "metadata": {},
          "output_type": "display_data"
        }
      ],
      "source": [
        "plot_confusion(y_test, y_pred)"
      ]
    },
    {
      "cell_type": "markdown",
      "metadata": {
        "id": "bvny2Uuqj6FC"
      },
      "source": [
        "### TF-IDF text representation"
      ]
    },
    {
      "cell_type": "code",
      "execution_count": null,
      "metadata": {
        "id": "zZ4lzN72j5vd"
      },
      "outputs": [],
      "source": [
        "from sklearn.feature_extraction.text import TfidfVectorizer\n",
        "vectorizer = TfidfVectorizer()\n",
        "X_train_coded = vectorizer.fit_transform(X_train)\n",
        "X_test_coded = vectorizer.transform(X_test)"
      ]
    },
    {
      "cell_type": "code",
      "execution_count": null,
      "metadata": {
        "colab": {
          "base_uri": "https://localhost:8080/"
        },
        "id": "Nkpdv1KnMQ9r",
        "outputId": "f1e031fd-19b4-4547-e6cc-340799e7ae96"
      },
      "outputs": [
        {
          "name": "stdout",
          "output_type": "stream",
          "text": [
            "              precision    recall  f1-score   support\n",
            "\n",
            "           0       0.95      0.93      0.94      1990\n",
            "           1       0.95      0.97      0.96      1860\n",
            "           2       0.98      0.98      0.98      1999\n",
            "           3       0.95      0.96      0.95      1842\n",
            "\n",
            "    accuracy                           0.96      7691\n",
            "   macro avg       0.96      0.96      0.96      7691\n",
            "weighted avg       0.96      0.96      0.96      7691\n",
            "\n"
          ]
        },
        {
          "name": "stderr",
          "output_type": "stream",
          "text": [
            "/usr/local/lib/python3.10/dist-packages/sklearn/linear_model/_logistic.py:458: ConvergenceWarning: lbfgs failed to converge (status=1):\n",
            "STOP: TOTAL NO. of ITERATIONS REACHED LIMIT.\n",
            "\n",
            "Increase the number of iterations (max_iter) or scale the data as shown in:\n",
            "    https://scikit-learn.org/stable/modules/preprocessing.html\n",
            "Please also refer to the documentation for alternative solver options:\n",
            "    https://scikit-learn.org/stable/modules/linear_model.html#logistic-regression\n",
            "  n_iter_i = _check_optimize_result(\n"
          ]
        }
      ],
      "source": [
        "clf = LogisticRegression(random_state=0).fit(X_train_coded, y_train)\n",
        "y_pred = clf.predict(X_test_coded)\n",
        "\n",
        "print(classification_report(y_pred, y_test))"
      ]
    },
    {
      "cell_type": "code",
      "execution_count": null,
      "metadata": {
        "colab": {
          "base_uri": "https://localhost:8080/",
          "height": 556
        },
        "id": "iXiVWEYqMV_C",
        "outputId": "0a55aab1-4127-4fce-ee0c-d49c53642809"
      },
      "outputs": [
        {
          "data": {
            "image/png": "[encoded data removed]",
            "text/plain": [
              "<Figure size 400x500 with 1 Axes>"
            ]
          },
          "metadata": {},
          "output_type": "display_data"
        }
      ],
      "source": [
        "plot_confusion(y_test, y_pred)"
      ]
    },
    {
      "cell_type": "markdown",
      "metadata": {
        "id": "GXIeVB-cTbxX"
      },
      "source": [
        "### 2.4 Сравнение различных моделей для метода TF-IDF"
      ]
    },
    {
      "cell_type": "code",
      "execution_count": null,
      "metadata": {
        "id": "RzJWkiPst5X4"
      },
      "outputs": [],
      "source": [
        "def get_models():\n",
        "    return {'RandomForest': RandomForestClassifier(bootstrap=True,\n",
        "                                                   n_estimators=100,\n",
        "                                                   n_jobs=-1),\n",
        "           \"GB\":GradientBoostingClassifier(n_estimators=100),\n",
        "            \"kNN\":KNeighborsClassifier(),\n",
        "            \"LogisticRegression\":LogisticRegression(),\n",
        "            \"SVC\":SVC(kernel='rbf')}"
      ]
    },
    {
      "cell_type": "code",
      "execution_count": null,
      "metadata": {
        "colab": {
          "base_uri": "https://localhost:8080/"
        },
        "id": "TD3urhC4tvRo",
        "outputId": "3bd57928-9ce0-408c-874d-04f2b80161b9"
      },
      "outputs": [
        {
          "name": "stderr",
          "output_type": "stream",
          "text": [
            "\r  0%|          | 0/5 [00:00<?, ?it/s]"
          ]
        },
        {
          "name": "stdout",
          "output_type": "stream",
          "text": [
            "RandomForest\n"
          ]
        },
        {
          "name": "stderr",
          "output_type": "stream",
          "text": [
            "\r 20%|██        | 1/5 [00:44<02:59, 44.99s/it]"
          ]
        },
        {
          "name": "stdout",
          "output_type": "stream",
          "text": [
            "GB\n"
          ]
        },
        {
          "name": "stderr",
          "output_type": "stream",
          "text": [
            "\r 40%|████      | 2/5 [03:43<06:10, 123.58s/it]"
          ]
        },
        {
          "name": "stdout",
          "output_type": "stream",
          "text": [
            "kNN\n"
          ]
        },
        {
          "name": "stderr",
          "output_type": "stream",
          "text": [
            "\r 60%|██████    | 3/5 [08:56<06:59, 209.91s/it]"
          ]
        },
        {
          "name": "stdout",
          "output_type": "stream",
          "text": [
            "LogisticRegression\n"
          ]
        },
        {
          "name": "stderr",
          "output_type": "stream",
          "text": [
            "/usr/local/lib/python3.10/dist-packages/sklearn/linear_model/_logistic.py:458: ConvergenceWarning: lbfgs failed to converge (status=1):\n",
            "STOP: TOTAL NO. of ITERATIONS REACHED LIMIT.\n",
            "\n",
            "Increase the number of iterations (max_iter) or scale the data as shown in:\n",
            "    https://scikit-learn.org/stable/modules/preprocessing.html\n",
            "Please also refer to the documentation for alternative solver options:\n",
            "    https://scikit-learn.org/stable/modules/linear_model.html#logistic-regression\n",
            "  n_iter_i = _check_optimize_result(\n",
            "\r 80%|████████  | 4/5 [09:07<02:11, 131.46s/it]"
          ]
        },
        {
          "name": "stdout",
          "output_type": "stream",
          "text": [
            "SVC\n"
          ]
        },
        {
          "name": "stderr",
          "output_type": "stream",
          "text": [
            "100%|██████████| 5/5 [11:20<00:00, 136.05s/it]\n"
          ]
        }
      ],
      "source": [
        "from sklearn.feature_extraction.text import TfidfVectorizer\n",
        "vectorizer = TfidfVectorizer()\n",
        "\n",
        "X_train_TFIDF = vectorizer.fit_transform(X_train)\n",
        "X_test_TFIDF = vectorizer.transform(X_test)\n",
        "\n",
        "metrics = {}\n",
        "models = get_models()\n",
        "for name, model in tqdm(models.items()):\n",
        "    print(name)\n",
        "    clf = model.fit(X_train_TFIDF, y_train)\n",
        "    y_predict_TFIDF = clf.predict(X_test_TFIDF)\n",
        "    score = f1_score(y_predict_TFIDF, y_test, average='macro')\n",
        "    metrics[name] = score\n"
      ]
    },
    {
      "cell_type": "code",
      "execution_count": null,
      "metadata": {
        "id": "_94OESJNuci9"
      },
      "outputs": [],
      "source": [
        "df_metrics = pd.DataFrame.from_dict(metrics, orient='index').reset_index()\n",
        "df_metrics.columns = ['model', 'f1_score']"
      ]
    },
    {
      "cell_type": "code",
      "execution_count": null,
      "metadata": {
        "colab": {
          "base_uri": "https://localhost:8080/",
          "height": 206
        },
        "id": "zDypaZF319tk",
        "outputId": "e40e2d6b-6d26-4d25-80c1-d56880331420"
      },
      "outputs": [
        {
          "data": {
            "application/vnd.google.colaboratory.intrinsic+json": {
              "summary": "{\n  \"name\": \"df_metrics\",\n  \"rows\": 5,\n  \"fields\": [\n    {\n      \"column\": \"model\",\n      \"properties\": {\n        \"dtype\": \"string\",\n        \"num_unique_values\": 5,\n        \"samples\": [\n          \"GB\",\n          \"SVC\",\n          \"kNN\"\n        ],\n        \"semantic_type\": \"\",\n        \"description\": \"\"\n      }\n    },\n    {\n      \"column\": \"f1_score\",\n      \"properties\": {\n        \"dtype\": \"number\",\n        \"std\": 0.017766968872905096,\n        \"min\": 0.9237287969675791,\n        \"max\": 0.97015450444855,\n        \"num_unique_values\": 5,\n        \"samples\": [\n          0.9237287969675791,\n          0.97015450444855,\n          0.9471658446940954\n        ],\n        \"semantic_type\": \"\",\n        \"description\": \"\"\n      }\n    }\n  ]\n}",
              "type": "dataframe",
              "variable_name": "df_metrics"
            },
            "text/html": [
              "\n",
              "  <div id=\"df-e401981f-dcd7-4b09-975e-82407d896427\" class=\"colab-df-container\">\n",
              "    <div>\n",
              "<style scoped>\n",
              "    .dataframe tbody tr th:only-of-type {\n",
              "        vertical-align: middle;\n",
              "    }\n",
              "\n",
              "    .dataframe tbody tr th {\n",
              "        vertical-align: top;\n",
              "    }\n",
              "\n",
              "    .dataframe thead th {\n",
              "        text-align: right;\n",
              "    }\n",
              "</style>\n",
              "<table border=\"1\" class=\"dataframe\">\n",
              "  <thead>\n",
              "    <tr style=\"text-align: right;\">\n",
              "      <th></th>\n",
              "      <th>model</th>\n",
              "      <th>f1_score</th>\n",
              "    </tr>\n",
              "  </thead>\n",
              "  <tbody>\n",
              "    <tr>\n",
              "      <th>0</th>\n",
              "      <td>RandomForest</td>\n",
              "      <td>0.960195</td>\n",
              "    </tr>\n",
              "    <tr>\n",
              "      <th>1</th>\n",
              "      <td>GB</td>\n",
              "      <td>0.923729</td>\n",
              "    </tr>\n",
              "    <tr>\n",
              "      <th>2</th>\n",
              "      <td>kNN</td>\n",
              "      <td>0.947166</td>\n",
              "    </tr>\n",
              "    <tr>\n",
              "      <th>3</th>\n",
              "      <td>LogisticRegression</td>\n",
              "      <td>0.958580</td>\n",
              "    </tr>\n",
              "    <tr>\n",
              "      <th>4</th>\n",
              "      <td>SVC</td>\n",
              "      <td>0.970155</td>\n",
              "    </tr>\n",
              "  </tbody>\n",
              "</table>\n",
              "</div>\n",
              "    <div class=\"colab-df-buttons\">\n",
              "\n",
              "  <div class=\"colab-df-container\">\n",
              "    <button class=\"colab-df-convert\" onclick=\"convertToInteractive('df-e401981f-dcd7-4b09-975e-82407d896427')\"\n",
              "            title=\"Convert this dataframe to an interactive table.\"\n",
              "            style=\"display:none;\">\n",
              "\n",
              "  <svg xmlns=\"http://www.w3.org/2000/svg\" height=\"24px\" viewBox=\"0 -960 960 960\">\n",
              "    <path d=\"M120-120v-720h720v720H120Zm60-500h600v-160H180v160Zm220 220h160v-160H400v160Zm0 220h160v-160H400v160ZM180-400h160v-160H180v160Zm440 0h160v-160H620v160ZM180-180h160v-160H180v160Zm440 0h160v-160H620v160Z\"/>\n",
              "  </svg>\n",
              "    </button>\n",
              "\n",
              "  <style>\n",
              "    .colab-df-container {\n",
              "      display:flex;\n",
              "      gap: 12px;\n",
              "    }\n",
              "\n",
              "    .colab-df-convert {\n",
              "      background-color: #E8F0FE;\n",
              "      border: none;\n",
              "      border-radius: 50%;\n",
              "      cursor: pointer;\n",
              "      display: none;\n",
              "      fill: #1967D2;\n",
              "      height: 32px;\n",
              "      padding: 0 0 0 0;\n",
              "      width: 32px;\n",
              "    }\n",
              "\n",
              "    .colab-df-convert:hover {\n",
              "      background-color: #E2EBFA;\n",
              "      box-shadow: 0px 1px 2px rgba(60, 64, 67, 0.3), 0px 1px 3px 1px rgba(60, 64, 67, 0.15);\n",
              "      fill: #174EA6;\n",
              "    }\n",
              "\n",
              "    .colab-df-buttons div {\n",
              "      margin-bottom: 4px;\n",
              "    }\n",
              "\n",
              "    [theme=dark] .colab-df-convert {\n",
              "      background-color: #3B4455;\n",
              "      fill: #D2E3FC;\n",
              "    }\n",
              "\n",
              "    [theme=dark] .colab-df-convert:hover {\n",
              "      background-color: #434B5C;\n",
              "      box-shadow: 0px 1px 3px 1px rgba(0, 0, 0, 0.15);\n",
              "      filter: drop-shadow(0px 1px 2px rgba(0, 0, 0, 0.3));\n",
              "      fill: #FFFFFF;\n",
              "    }\n",
              "  </style>\n",
              "\n",
              "    <script>\n",
              "      const buttonEl =\n",
              "        document.querySelector('#df-e401981f-dcd7-4b09-975e-82407d896427 button.colab-df-convert');\n",
              "      buttonEl.style.display =\n",
              "        google.colab.kernel.accessAllowed ? 'block' : 'none';\n",
              "\n",
              "      async function convertToInteractive(key) {\n",
              "        const element = document.querySelector('#df-e401981f-dcd7-4b09-975e-82407d896427');\n",
              "        const dataTable =\n",
              "          await google.colab.kernel.invokeFunction('convertToInteractive',\n",
              "                                                    [key], {});\n",
              "        if (!dataTable) return;\n",
              "\n",
              "        const docLinkHtml = 'Like what you see? Visit the ' +\n",
              "          '<a target=\"_blank\" href=https://colab.research.google.com/notebooks/data_table.ipynb>data table notebook</a>'\n",
              "          + ' to learn more about interactive tables.';\n",
              "        element.innerHTML = '';\n",
              "        dataTable['output_type'] = 'display_data';\n",
              "        await google.colab.output.renderOutput(dataTable, element);\n",
              "        const docLink = document.createElement('div');\n",
              "        docLink.innerHTML = docLinkHtml;\n",
              "        element.appendChild(docLink);\n",
              "      }\n",
              "    </script>\n",
              "  </div>\n",
              "\n",
              "\n",
              "<div id=\"df-28167888-db16-45d6-9e57-3b264599cbf3\">\n",
              "  <button class=\"colab-df-quickchart\" onclick=\"quickchart('df-28167888-db16-45d6-9e57-3b264599cbf3')\"\n",
              "            title=\"Suggest charts\"\n",
              "            style=\"display:none;\">\n",
              "\n",
              "<svg xmlns=\"http://www.w3.org/2000/svg\" height=\"24px\"viewBox=\"0 0 24 24\"\n",
              "     width=\"24px\">\n",
              "    <g>\n",
              "        <path d=\"M19 3H5c-1.1 0-2 .9-2 2v14c0 1.1.9 2 2 2h14c1.1 0 2-.9 2-2V5c0-1.1-.9-2-2-2zM9 17H7v-7h2v7zm4 0h-2V7h2v10zm4 0h-2v-4h2v4z\"/>\n",
              "    </g>\n",
              "</svg>\n",
              "  </button>\n",
              "\n",
              "<style>\n",
              "  .colab-df-quickchart {\n",
              "      --bg-color: #E8F0FE;\n",
              "      --fill-color: #1967D2;\n",
              "      --hover-bg-color: #E2EBFA;\n",
              "      --hover-fill-color: #174EA6;\n",
              "      --disabled-fill-color: #AAA;\n",
              "      --disabled-bg-color: #DDD;\n",
              "  }\n",
              "\n",
              "  [theme=dark] .colab-df-quickchart {\n",
              "      --bg-color: #3B4455;\n",
              "      --fill-color: #D2E3FC;\n",
              "      --hover-bg-color: #434B5C;\n",
              "      --hover-fill-color: #FFFFFF;\n",
              "      --disabled-bg-color: #3B4455;\n",
              "      --disabled-fill-color: #666;\n",
              "  }\n",
              "\n",
              "  .colab-df-quickchart {\n",
              "    background-color: var(--bg-color);\n",
              "    border: none;\n",
              "    border-radius: 50%;\n",
              "    cursor: pointer;\n",
              "    display: none;\n",
              "    fill: var(--fill-color);\n",
              "    height: 32px;\n",
              "    padding: 0;\n",
              "    width: 32px;\n",
              "  }\n",
              "\n",
              "  .colab-df-quickchart:hover {\n",
              "    background-color: var(--hover-bg-color);\n",
              "    box-shadow: 0 1px 2px rgba(60, 64, 67, 0.3), 0 1px 3px 1px rgba(60, 64, 67, 0.15);\n",
              "    fill: var(--button-hover-fill-color);\n",
              "  }\n",
              "\n",
              "  .colab-df-quickchart-complete:disabled,\n",
              "  .colab-df-quickchart-complete:disabled:hover {\n",
              "    background-color: var(--disabled-bg-color);\n",
              "    fill: var(--disabled-fill-color);\n",
              "    box-shadow: none;\n",
              "  }\n",
              "\n",
              "  .colab-df-spinner {\n",
              "    border: 2px solid var(--fill-color);\n",
              "    border-color: transparent;\n",
              "    border-bottom-color: var(--fill-color);\n",
              "    animation:\n",
              "      spin 1s steps(1) infinite;\n",
              "  }\n",
              "\n",
              "  @keyframes spin {\n",
              "    0% {\n",
              "      border-color: transparent;\n",
              "      border-bottom-color: var(--fill-color);\n",
              "      border-left-color: var(--fill-color);\n",
              "    }\n",
              "    20% {\n",
              "      border-color: transparent;\n",
              "      border-left-color: var(--fill-color);\n",
              "      border-top-color: var(--fill-color);\n",
              "    }\n",
              "    30% {\n",
              "      border-color: transparent;\n",
              "      border-left-color: var(--fill-color);\n",
              "      border-top-color: var(--fill-color);\n",
              "      border-right-color: var(--fill-color);\n",
              "    }\n",
              "    40% {\n",
              "      border-color: transparent;\n",
              "      border-right-color: var(--fill-color);\n",
              "      border-top-color: var(--fill-color);\n",
              "    }\n",
              "    60% {\n",
              "      border-color: transparent;\n",
              "      border-right-color: var(--fill-color);\n",
              "    }\n",
              "    80% {\n",
              "      border-color: transparent;\n",
              "      border-right-color: var(--fill-color);\n",
              "      border-bottom-color: var(--fill-color);\n",
              "    }\n",
              "    90% {\n",
              "      border-color: transparent;\n",
              "      border-bottom-color: var(--fill-color);\n",
              "    }\n",
              "  }\n",
              "</style>\n",
              "\n",
              "  <script>\n",
              "    async function quickchart(key) {\n",
              "      const quickchartButtonEl =\n",
              "        document.querySelector('#' + key + ' button');\n",
              "      quickchartButtonEl.disabled = true;  // To prevent multiple clicks.\n",
              "      quickchartButtonEl.classList.add('colab-df-spinner');\n",
              "      try {\n",
              "        const charts = await google.colab.kernel.invokeFunction(\n",
              "            'suggestCharts', [key], {});\n",
              "      } catch (error) {\n",
              "        console.error('Error during call to suggestCharts:', error);\n",
              "      }\n",
              "      quickchartButtonEl.classList.remove('colab-df-spinner');\n",
              "      quickchartButtonEl.classList.add('colab-df-quickchart-complete');\n",
              "    }\n",
              "    (() => {\n",
              "      let quickchartButtonEl =\n",
              "        document.querySelector('#df-28167888-db16-45d6-9e57-3b264599cbf3 button');\n",
              "      quickchartButtonEl.style.display =\n",
              "        google.colab.kernel.accessAllowed ? 'block' : 'none';\n",
              "    })();\n",
              "  </script>\n",
              "</div>\n",
              "    </div>\n",
              "  </div>\n"
            ],
            "text/plain": [
              "                model  f1_score\n",
              "0        RandomForest  0.960195\n",
              "1                  GB  0.923729\n",
              "2                 kNN  0.947166\n",
              "3  LogisticRegression  0.958580\n",
              "4                 SVC  0.970155"
            ]
          },
          "execution_count": 36,
          "metadata": {},
          "output_type": "execute_result"
        }
      ],
      "source": [
        "df_metrics"
      ]
    },
    {
      "cell_type": "code",
      "execution_count": null,
      "metadata": {
        "colab": {
          "base_uri": "https://localhost:8080/"
        },
        "id": "HMen8-JtWcin",
        "outputId": "a1fb4a60-e433-4263-bdec-ed3898877cab"
      },
      "outputs": [
        {
          "name": "stdout",
          "output_type": "stream",
          "text": [
            "              precision    recall  f1-score   support\n",
            "\n",
            "           0       0.95      0.93      0.94      1990\n",
            "           1       0.95      0.97      0.96      1860\n",
            "           2       0.98      0.98      0.98      1999\n",
            "           3       0.95      0.96      0.95      1842\n",
            "\n",
            "    accuracy                           0.96      7691\n",
            "   macro avg       0.96      0.96      0.96      7691\n",
            "weighted avg       0.96      0.96      0.96      7691\n",
            "\n"
          ]
        },
        {
          "name": "stderr",
          "output_type": "stream",
          "text": [
            "/usr/local/lib/python3.10/dist-packages/sklearn/linear_model/_logistic.py:458: ConvergenceWarning: lbfgs failed to converge (status=1):\n",
            "STOP: TOTAL NO. of ITERATIONS REACHED LIMIT.\n",
            "\n",
            "Increase the number of iterations (max_iter) or scale the data as shown in:\n",
            "    https://scikit-learn.org/stable/modules/preprocessing.html\n",
            "Please also refer to the documentation for alternative solver options:\n",
            "    https://scikit-learn.org/stable/modules/linear_model.html#logistic-regression\n",
            "  n_iter_i = _check_optimize_result(\n"
          ]
        }
      ],
      "source": [
        "from sklearn.feature_extraction.text import TfidfVectorizer\n",
        "vectorizer = TfidfVectorizer()\n",
        "X_train_coded = vectorizer.fit_transform(X_train)\n",
        "X_test_coded = vectorizer.transform(X_test)\n",
        "clf = LogisticRegression(random_state=0).fit(X_train_coded, y_train)\n",
        "y_pred = clf.predict(X_test_coded)\n",
        "\n",
        "print(classification_report(y_pred, y_test))"
      ]
    },
    {
      "cell_type": "code",
      "execution_count": null,
      "metadata": {
        "id": "5Pmm-4bAWL3c"
      },
      "outputs": [],
      "source": [
        "# Save model for future API\n",
        "from joblib import dump, load\n",
        "dump(clf, './logistic_reg_model.joblib')"
      ]
    },
    {
      "cell_type": "code",
      "execution_count": null,
      "metadata": {
        "id": "RGGNnIAhWozg"
      },
      "outputs": [],
      "source": [
        "# Save vectorizer for future API\n",
        "dump(vectorizer, 'vectorizer_tfidf.pkl', compress=True)"
      ]
    },
    {
      "cell_type": "markdown",
      "metadata": {
        "id": "mr0bum3qAUcH"
      },
      "source": [
        "## Классификация текста с помощью LSTM\n"
      ]
    },
    {
      "cell_type": "code",
      "execution_count": null,
      "metadata": {
        "id": "8jF9ZTkFUuE1"
      },
      "outputs": [],
      "source": [
        "from wordcloud import WordCloud, STOPWORDS, ImageColorGenerator\n",
        "import tensorflow as tf\n",
        "from tensorflow.keras.preprocessing.text import Tokenizer\n",
        "from tensorflow.keras.preprocessing.sequence import pad_sequences\n",
        "from tensorflow.keras.callbacks import EarlyStopping\n",
        "from tensorflow.keras.models import Sequential\n",
        "from tensorflow.keras.layers import LSTM, GRU, Dense, Embedding, Dropout, GlobalAveragePooling1D, Flatten, SpatialDropout1D, Bidirectional"
      ]
    },
    {
      "cell_type": "code",
      "execution_count": null,
      "metadata": {
        "id": "3kJafgKWFHO6"
      },
      "outputs": [],
      "source": [
        "# df['Text'] = df['clean_text'].astype(str)"
      ]
    },
    {
      "cell_type": "code",
      "execution_count": null,
      "metadata": {
        "id": "10E0gCoNAblb"
      },
      "outputs": [],
      "source": [
        "x_train, x_test, y_train, y_test = train_test_split(df['Text'], df['Category_code'],\n",
        "                                                    test_size=0.25, random_state=434)"
      ]
    },
    {
      "cell_type": "code",
      "execution_count": null,
      "metadata": {
        "id": "1OdzxEXAYK13"
      },
      "outputs": [],
      "source": [
        "x_train"
      ]
    },
    {
      "cell_type": "code",
      "execution_count": null,
      "metadata": {
        "id": "RU_cPXTuCfz-"
      },
      "outputs": [],
      "source": [
        "# Defining pre-processing parameters\n",
        "max_len = 100\n",
        "trunc_type = 'post'\n",
        "padding_type = 'post'\n",
        "oov_tok = '<OOV>' # out of vocabulary token\n",
        "vocab_size = 1500"
      ]
    },
    {
      "cell_type": "code",
      "execution_count": null,
      "metadata": {
        "id": "iEHIY2c8U3ao"
      },
      "outputs": [],
      "source": [
        "tokenizer = Tokenizer(num_words = vocab_size,\n",
        "                      char_level = False,\n",
        "                      oov_token = oov_tok)\n",
        "tokenizer.fit_on_texts(x_train)"
      ]
    },
    {
      "cell_type": "code",
      "execution_count": null,
      "metadata": {
        "colab": {
          "base_uri": "https://localhost:8080/"
        },
        "id": "6ocpL8FAU4ml",
        "outputId": "823d068b-7d27-4a18-f0ad-25fb685afa37"
      },
      "outputs": [
        {
          "data": {
            "text/plain": [
              "38843"
            ]
          },
          "execution_count": 44,
          "metadata": {},
          "output_type": "execute_result"
        }
      ],
      "source": [
        "# Get the word_index\n",
        "word_index = tokenizer.word_index\n",
        "total_words = len(word_index)\n",
        "total_words"
      ]
    },
    {
      "cell_type": "code",
      "execution_count": null,
      "metadata": {
        "colab": {
          "base_uri": "https://localhost:8080/"
        },
        "id": "YLuWiLwqU50Z",
        "outputId": "9820a9cf-9cc5-480c-a91e-e0ec82284737"
      },
      "outputs": [
        {
          "name": "stdout",
          "output_type": "stream",
          "text": [
            "Shape of training tensor:  (19227, 100)\n",
            "Shape of testing tensor:  (6409, 100)\n"
          ]
        }
      ],
      "source": [
        "training_sequences = tokenizer.texts_to_sequences(x_train)\n",
        "training_padded = pad_sequences(training_sequences,\n",
        "                                maxlen = max_len,\n",
        "                                padding = padding_type,\n",
        "                                truncating = trunc_type)\n",
        "testing_sequences = tokenizer.texts_to_sequences(x_test)\n",
        "testing_padded = pad_sequences(testing_sequences,\n",
        "                               maxlen = max_len,\n",
        "                               padding = padding_type,\n",
        "                               truncating = trunc_type)\n",
        "\n",
        "print('Shape of training tensor: ', training_padded.shape)\n",
        "print('Shape of testing tensor: ', testing_padded.shape)"
      ]
    },
    {
      "cell_type": "code",
      "execution_count": null,
      "metadata": {
        "id": "ke3XIyJdU_Y0"
      },
      "outputs": [],
      "source": [
        "# Define parameter\n",
        "embedding_dim = 32 # size for embeding of word\n",
        "n_dense = 24# Define Dense Model Architecture\n",
        "n_lstm = 64\n",
        "drop_lstm = 0.1# Define LSTM Model\n",
        "\n",
        "model = Sequential()\n",
        "model.add(Embedding(vocab_size, embedding_dim, input_length=max_len))\n",
        "model.add(SpatialDropout1D(drop_lstm))\n",
        "model.add(LSTM(n_lstm, return_sequences=False))\n",
        "model.add(Dropout(drop_lstm))\n",
        "model.add(Dense(1, activation='sigmoid'))"
      ]
    },
    {
      "cell_type": "code",
      "execution_count": null,
      "metadata": {
        "id": "jsiqzzFVVMeu"
      },
      "outputs": [],
      "source": [
        "model.compile(loss = 'binary_crossentropy',\n",
        "               optimizer = 'adam',\n",
        "               metrics = ['accuracy'])"
      ]
    },
    {
      "cell_type": "code",
      "execution_count": null,
      "metadata": {
        "colab": {
          "base_uri": "https://localhost:8080/"
        },
        "id": "vahH-TqJVQcI",
        "outputId": "5c1f6ed9-a798-4e82-ea0d-92b203ae612b"
      },
      "outputs": [
        {
          "name": "stdout",
          "output_type": "stream",
          "text": [
            "Epoch 1/30\n",
            "601/601 - 54s - loss: -1.2679e+01 - accuracy: 0.2500 - val_loss: -2.2011e+01 - val_accuracy: 0.2498 - 54s/epoch - 90ms/step\n",
            "Epoch 2/30\n",
            "601/601 - 61s - loss: -3.0246e+01 - accuracy: 0.2501 - val_loss: -3.9512e+01 - val_accuracy: 0.2498 - 61s/epoch - 101ms/step\n",
            "Epoch 3/30\n",
            "601/601 - 46s - loss: -4.7370e+01 - accuracy: 0.2501 - val_loss: -5.6811e+01 - val_accuracy: 0.2498 - 46s/epoch - 77ms/step\n",
            "Epoch 4/30\n",
            "601/601 - 37s - loss: -6.4484e+01 - accuracy: 0.2501 - val_loss: -7.4449e+01 - val_accuracy: 0.2498 - 37s/epoch - 61ms/step\n",
            "Epoch 5/30\n",
            "601/601 - 38s - loss: -8.1847e+01 - accuracy: 0.2501 - val_loss: -9.1966e+01 - val_accuracy: 0.2498 - 38s/epoch - 63ms/step\n",
            "Epoch 6/30\n",
            "601/601 - 37s - loss: -9.9318e+01 - accuracy: 0.2501 - val_loss: -1.0953e+02 - val_accuracy: 0.2498 - 37s/epoch - 62ms/step\n",
            "Epoch 7/30\n",
            "601/601 - 65s - loss: -1.1200e+02 - accuracy: 0.2504 - val_loss: -7.7094e+01 - val_accuracy: 0.2496 - 65s/epoch - 108ms/step\n",
            "Epoch 8/30\n",
            "601/601 - 38s - loss: -1.0055e+02 - accuracy: 0.2754 - val_loss: -1.2961e+02 - val_accuracy: 0.3242 - 38s/epoch - 63ms/step\n",
            "Epoch 9/30\n",
            "601/601 - 40s - loss: -1.5040e+02 - accuracy: 0.3681 - val_loss: -1.6511e+02 - val_accuracy: 0.3955 - 40s/epoch - 67ms/step\n",
            "Epoch 10/30\n",
            "601/601 - 42s - loss: -1.7296e+02 - accuracy: 0.3649 - val_loss: -1.9121e+02 - val_accuracy: 0.4139 - 42s/epoch - 70ms/step\n",
            "Epoch 11/30\n",
            "601/601 - 38s - loss: -2.0736e+02 - accuracy: 0.3757 - val_loss: -2.1576e+02 - val_accuracy: 0.3824 - 38s/epoch - 63ms/step\n",
            "Epoch 12/30\n",
            "601/601 - 42s - loss: -2.4200e+02 - accuracy: 0.3862 - val_loss: -2.6217e+02 - val_accuracy: 0.4143 - 42s/epoch - 70ms/step\n",
            "Epoch 13/30\n",
            "601/601 - 43s - loss: -2.6809e+02 - accuracy: 0.3849 - val_loss: -2.5240e+02 - val_accuracy: 0.3859 - 43s/epoch - 72ms/step\n",
            "Epoch 14/30\n",
            "601/601 - 35s - loss: -2.8168e+02 - accuracy: 0.3606 - val_loss: -3.0388e+02 - val_accuracy: 0.4030 - 35s/epoch - 58ms/step\n",
            "Epoch 15/30\n",
            "601/601 - 34s - loss: -3.2130e+02 - accuracy: 0.3966 - val_loss: -3.3731e+02 - val_accuracy: 0.4236 - 34s/epoch - 56ms/step\n",
            "Epoch 16/30\n",
            "601/601 - 36s - loss: -3.5446e+02 - accuracy: 0.4031 - val_loss: -3.6679e+02 - val_accuracy: 0.4325 - 36s/epoch - 60ms/step\n",
            "Epoch 17/30\n",
            "601/601 - 40s - loss: -3.8231e+02 - accuracy: 0.4102 - val_loss: -3.9471e+02 - val_accuracy: 0.4263 - 40s/epoch - 67ms/step\n",
            "Epoch 18/30\n",
            "601/601 - 34s - loss: -4.1047e+02 - accuracy: 0.4118 - val_loss: -4.1427e+02 - val_accuracy: 0.4174 - 34s/epoch - 56ms/step\n",
            "Epoch 19/30\n",
            "601/601 - 36s - loss: -4.3343e+02 - accuracy: 0.4135 - val_loss: -4.4168e+02 - val_accuracy: 0.4238 - 36s/epoch - 60ms/step\n",
            "Epoch 20/30\n",
            "601/601 - 33s - loss: -4.5332e+02 - accuracy: 0.4150 - val_loss: -4.7179e+02 - val_accuracy: 0.4320 - 33s/epoch - 56ms/step\n",
            "Epoch 21/30\n",
            "601/601 - 36s - loss: -4.9019e+02 - accuracy: 0.4196 - val_loss: -4.9697e+02 - val_accuracy: 0.4294 - 36s/epoch - 60ms/step\n",
            "Epoch 22/30\n",
            "601/601 - 33s - loss: -5.1704e+02 - accuracy: 0.4220 - val_loss: -5.2722e+02 - val_accuracy: 0.4344 - 33s/epoch - 56ms/step\n",
            "Epoch 23/30\n",
            "601/601 - 36s - loss: -5.3876e+02 - accuracy: 0.4164 - val_loss: -5.5191e+02 - val_accuracy: 0.4416 - 36s/epoch - 60ms/step\n",
            "Epoch 24/30\n",
            "601/601 - 34s - loss: -5.7166e+02 - accuracy: 0.4308 - val_loss: -5.7502e+02 - val_accuracy: 0.4335 - 34s/epoch - 56ms/step\n",
            "Epoch 25/30\n",
            "601/601 - 36s - loss: -5.9678e+02 - accuracy: 0.4267 - val_loss: -6.0066e+02 - val_accuracy: 0.4344 - 36s/epoch - 60ms/step\n",
            "Epoch 26/30\n",
            "601/601 - 36s - loss: -6.1996e+02 - accuracy: 0.4225 - val_loss: -6.2717e+02 - val_accuracy: 0.4411 - 36s/epoch - 60ms/step\n",
            "Epoch 27/30\n",
            "601/601 - 35s - loss: -6.4528e+02 - accuracy: 0.4270 - val_loss: -6.5014e+02 - val_accuracy: 0.4347 - 35s/epoch - 58ms/step\n",
            "Epoch 28/30\n",
            "601/601 - 33s - loss: -6.6730e+02 - accuracy: 0.4278 - val_loss: -6.5370e+02 - val_accuracy: 0.4154 - 33s/epoch - 55ms/step\n",
            "Epoch 29/30\n",
            "601/601 - 36s - loss: -6.7834e+02 - accuracy: 0.4155 - val_loss: -6.8398e+02 - val_accuracy: 0.4182 - 36s/epoch - 60ms/step\n",
            "Epoch 30/30\n",
            "601/601 - 34s - loss: -7.0898e+02 - accuracy: 0.4270 - val_loss: -7.1884e+02 - val_accuracy: 0.4436 - 34s/epoch - 56ms/step\n"
          ]
        },
        {
          "name": "stderr",
          "output_type": "stream",
          "text": [
            "\r0it [00:00, ?it/s]"
          ]
        }
      ],
      "source": [
        "num_epochs = 30\n",
        "early_stop = EarlyStopping(monitor='val_loss', patience=3)\n",
        "history = tqdm(model.fit(training_padded,\n",
        "                    y_train,\n",
        "                    epochs=num_epochs,\n",
        "                    validation_data=(testing_padded, y_test),\n",
        "                    callbacks =[early_stop],\n",
        "                    verbose=2))"
      ]
    },
    {
      "cell_type": "code",
      "execution_count": null,
      "metadata": {
        "colab": {
          "base_uri": "https://localhost:8080/"
        },
        "id": "8gHgx0K5VSJe",
        "outputId": "3efc4761-a7bd-41ad-ebe0-20c50e274ccc"
      },
      "outputs": [
        {
          "name": "stdout",
          "output_type": "stream",
          "text": [
            "201/201 [==============================] - 4s 18ms/step - loss: -718.8407 - accuracy: 0.4436\n"
          ]
        },
        {
          "data": {
            "text/plain": [
              "[-718.8406982421875, 0.44359493255615234]"
            ]
          },
          "execution_count": 50,
          "metadata": {},
          "output_type": "execute_result"
        }
      ],
      "source": [
        "model.evaluate(testing_padded, y_test)"
      ]
    },
    {
      "cell_type": "markdown",
      "metadata": {
        "id": "W9e_oj5XXM55"
      },
      "source": [
        "## Классификация текста с помощью BERT"
      ]
    },
    {
      "cell_type": "code",
      "execution_count": null,
      "metadata": {
        "id": "ZGiQbYzkhL_2"
      },
      "outputs": [],
      "source": [
        "from tqdm import tqdm\n",
        "import pandas as pd"
      ]
    },
    {
      "cell_type": "code",
      "execution_count": null,
      "metadata": {
        "id": "Hg_SEXV72nm7"
      },
      "outputs": [],
      "source": [
        "import tensorflow as tf"
      ]
    },
    {
      "cell_type": "code",
      "execution_count": null,
      "metadata": {
        "id": "5jG_DjmOSmLW"
      },
      "outputs": [],
      "source": [
        "!pip install Cython"
      ]
    },
    {
      "cell_type": "code",
      "execution_count": null,
      "metadata": {
        "id": "udwhtr1MSN3G"
      },
      "outputs": [],
      "source": [
        "# Import the necessary libraries\n",
        "import torch\n",
        "from transformers import BertTokenizer, BertForSequenceClassification"
      ]
    },
    {
      "cell_type": "code",
      "execution_count": null,
      "metadata": {
        "id": "BAfyH_P8dKCg"
      },
      "outputs": [],
      "source": [
        "df = pd.read_csv('./dataset.csv', index_col = 0)"
      ]
    },
    {
      "cell_type": "code",
      "execution_count": null,
      "metadata": {
        "id": "z4c32mzAdKCl"
      },
      "outputs": [],
      "source": [
        "df['Text'] = df['clean_text']\n",
        "df = df[['Text', 'Category_code']]"
      ]
    },
    {
      "cell_type": "code",
      "execution_count": null,
      "metadata": {
        "id": "VC9tmglidKCm"
      },
      "outputs": [],
      "source": [
        "df"
      ]
    },
    {
      "cell_type": "code",
      "execution_count": null,
      "metadata": {
        "id": "_LQ6hFNB2H0C"
      },
      "outputs": [],
      "source": [
        "X = df['Text']\n",
        "y = df['Category_code']\n",
        "X_train, X_test , y_train, y_test = train_test_split(X, y , test_size = 0.20)"
      ]
    },
    {
      "cell_type": "code",
      "execution_count": null,
      "metadata": {
        "id": "WR4jzDv12Ol2"
      },
      "outputs": [],
      "source": [
        "y_train = tf.keras.utils.to_categorical(y_train, num_classes=4, dtype='float32')\n",
        "y_test = tf.keras.utils.to_categorical(y_test, num_classes=4, dtype='float32')"
      ]
    },
    {
      "cell_type": "code",
      "execution_count": null,
      "metadata": {
        "id": "a8zvEGwN27GR"
      },
      "outputs": [],
      "source": [
        "!pip install keras-nlp --upgrade"
      ]
    },
    {
      "cell_type": "code",
      "execution_count": null,
      "metadata": {
        "id": "wax1Tn-B20vj"
      },
      "outputs": [],
      "source": [
        "from tensorflow import keras\n",
        "import keras_nlp"
      ]
    },
    {
      "cell_type": "code",
      "execution_count": null,
      "metadata": {
        "colab": {
          "base_uri": "https://localhost:8080/"
        },
        "id": "g5cRI3n72QVi",
        "outputId": "b88a0c00-c182-4297-d184-c5f0d7fad53b"
      },
      "outputs": [
        {
          "name": "stderr",
          "output_type": "stream",
          "text": [
            "/usr/local/lib/python3.10/dist-packages/keras_nlp/src/models/backbone.py:46: UserWarning: `Model.state_updates` will be removed in a future version. This property should not be used in TensorFlow 2.0, as `updates` are applied automatically.\n",
            "  return id(getattr(self, attr)) not in self._functional_layer_ids\n",
            "/usr/local/lib/python3.10/dist-packages/keras_nlp/src/models/backbone.py:46: UserWarning: `layer.updates` will be removed in a future version. This property should not be used in TensorFlow 2.0, as `updates` are applied automatically.\n",
            "  return id(getattr(self, attr)) not in self._functional_layer_ids\n"
          ]
        }
      ],
      "source": [
        "model_name = \"bert_tiny_en_uncased\"\n",
        "# Pretrained classifier.\n",
        "classifier = keras_nlp.models.BertClassifier.from_preset(\n",
        "    model_name,\n",
        "    num_classes=4,\n",
        "    load_weights = True,\n",
        "    activation='sigmoid'\n",
        ")"
      ]
    },
    {
      "cell_type": "code",
      "execution_count": null,
      "metadata": {
        "id": "fp66_bHo2Uh2"
      },
      "outputs": [],
      "source": [
        "classifier.compile(\n",
        "    loss=keras.losses.BinaryCrossentropy(),\n",
        "    optimizer=keras.optimizers.Adam(),\n",
        "    jit_compile=True,\n",
        "     metrics=[\"accuracy\"],\n",
        ")"
      ]
    },
    {
      "cell_type": "code",
      "execution_count": null,
      "metadata": {
        "id": "OTBN1bqR4XGV"
      },
      "outputs": [],
      "source": [
        "# Access backbone programatically (e.g., to change `trainable`).\n",
        "classifier.backbone.trainable = False"
      ]
    },
    {
      "cell_type": "code",
      "execution_count": null,
      "metadata": {
        "colab": {
          "base_uri": "https://localhost:8080/"
        },
        "id": "z2J8h-Q94X2L",
        "outputId": "fec24f30-6469-4d21-b9c5-db0a710ec8f5"
      },
      "outputs": [
        {
          "name": "stdout",
          "output_type": "stream",
          "text": [
            "641/641 [==============================] - 2298s 4s/step - loss: 0.1370 - accuracy: 0.9214 - val_loss: 0.0827 - val_accuracy: 0.9534\n"
          ]
        },
        {
          "data": {
            "text/plain": [
              "<keras.src.callbacks.History at 0x7eeec4738730>"
            ]
          },
          "execution_count": 57,
          "metadata": {},
          "output_type": "execute_result"
        }
      ],
      "source": [
        "# Fit again.\n",
        "classifier.fit(x=X_train, y=y_train, validation_data=(X_test,y_test), batch_size=32)"
      ]
    },
    {
      "cell_type": "code",
      "execution_count": null,
      "metadata": {
        "colab": {
          "base_uri": "https://localhost:8080/"
        },
        "id": "m0bt-no52WWv",
        "outputId": "2ff6ca28-8a72-4662-c2f5-518e2aaf6a05"
      },
      "outputs": [
        {
          "name": "stdout",
          "output_type": "stream",
          "text": [
            "161/161 [==============================] - 121s 749ms/step - loss: 0.0827 - accuracy: 0.9534\n"
          ]
        },
        {
          "data": {
            "text/plain": [
              "[0.08271922171115875, 0.9533931612968445]"
            ]
          },
          "execution_count": 58,
          "metadata": {},
          "output_type": "execute_result"
        }
      ],
      "source": [
        "classifier.evaluate(X_test, y_test,batch_size=32)"
      ]
    }
  ],
  "metadata": {
    "accelerator": "GPU",
    "colab": {
      "gpuType": "T4",
      "provenance": [],
      "toc_visible": true
    },
    "kernelspec": {
      "display_name": "Python 3",
      "name": "python3"
    },
    "language_info": {
      "codemirror_mode": {
        "name": "ipython",
        "version": 3
      },
      "file_extension": ".py",
      "mimetype": "text/x-python",
      "name": "python",
      "nbconvert_exporter": "python",
      "pygments_lexer": "ipython3",
      "version": "3.11.0"
    }
  },
  "nbformat": 4,
  "nbformat_minor": 0
}
